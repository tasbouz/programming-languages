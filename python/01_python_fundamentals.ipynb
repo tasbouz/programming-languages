{
 "cells": [
  {
   "cell_type": "markdown",
   "metadata": {},
   "source": [
    "<center><img src=\"../img/python.png\" alt=\"drawing\" width=\"150\"/></center>"
   ]
  },
  {
   "cell_type": "markdown",
   "metadata": {},
   "source": [
    "# Python Fundamentals"
   ]
  },
  {
   "cell_type": "markdown",
   "metadata": {
    "tags": []
   },
   "source": [
    "## Introduction\n",
    "\n",
    "Python is a high-level, general-purpose programming language developed by Guido van Rossum in the late 1980s. Its design philosophy emphasizes code readability with the use of significant indentation. It is dynamically-typed and garbage-collected. It supports multiple programming paradigms, including structured (particularly procedural), object-oriented and functional programming. It is often described as a \"batteries included\" language due to its comprehensive standard library. Python consistently ranks as one of the most popular programming languages used for web development, software development,\n",
    "mathematics, system scripting, and many more.\n",
    "\n",
    "Python works on different platforms (Windows, Mac, Linux, Raspberry Pi, etc) and has a simple syntax similar to the English language. It has syntax that allows developers to write programs with fewer lines than some other programming languages.\n",
    "It runs on an interpreter system, meaning that code can be executed as soon as it is written. This means that prototyping can be very quick. It can be treated in a procedural way, an object-oriented way or a functional way.\n",
    "\n",
    "The most recent major version of Python is Python 3, which we shall be using in this notebook."
   ]
  },
  {
   "cell_type": "markdown",
   "metadata": {
    "tags": []
   },
   "source": [
    "## Installation\n",
    "\n",
    "The best way to install python is through a python version management. In this notebook I will use `pyenv`.\n",
    "\n",
    "### Pyenv\n",
    "\n",
    "`Pyenv`, previously known as `Pythonbrew`, is a python version management tool that lets you install multiple Python versions, change the global Python version, set project (directory) specific Python versions, and create and manage virtual python environments (virtualenvs).\n",
    "\n",
    "Pyenv and pyenv-virtualenv can be simply installed via homebrew:\n",
    "\n",
    "```\n",
    "brew install pyenv\n",
    "brew install pyenv-virtualenv\n",
    "```\n",
    "\n",
    "When installed on a mac, in order for `pyenv` and `pyenv-virtualenv` to work correctly one needs to include them in `PATH`:\n",
    "\n",
    "```\n",
    "echo 'export PYENV_ROOT=\"$HOME/.pyenv”' >> $HOME/.zshrc\n",
    "echo 'export PATH=\"$PYENV_ROOT/bin:$PATH\"' >> $HOME/.zshrc\n",
    "echo 'eval \"$(pyenv init -)\"' >> $HOME/.zshrc\n",
    "echo 'eval \"$(pyenv virtualenv-init -)\"' >> $HOME/.zshrc\n",
    "```\n",
    "\n",
    "Once install one can see all available versions able to be installed with:\n",
    "\n",
    "```\n",
    "pyenv install --list\n",
    "```\n",
    "\n",
    "and install one or multiple versions with:\n",
    "\n",
    "```\n",
    "pyenv install <version>\n",
    "```\n",
    "\n",
    "In order to see all versions installed via pyenv:\n",
    "\n",
    "```\n",
    "pyenv versions\n",
    "```\n",
    "\n",
    "Once a python version is installed it can be set as the global (default) version by:\n",
    "\n",
    "```\n",
    "pyenv global <version>\n",
    "```\n",
    "\n",
    "or locally to a specific project (directory), which overrides the global version when in directory, by `cd` to the directory of the project and:\n",
    "\n",
    "```\n",
    "pyenv local <version>\n",
    "```\n",
    "\n",
    "A version is set in a hidden `.python-version` file within the directory. One can see the current version along with information on how it was set by:\n",
    "\n",
    "```\n",
    "pyenv version\n",
    "```\n",
    "\n",
    "or see the path of the python version used by:\n",
    "\n",
    "```\n",
    "pyenv which python\n",
    "```\n",
    "\n",
    "Last but not least, one can uninstall a version simply by:\n",
    "\n",
    "```\n",
    "pyenv uninstall <version>\n",
    "```\n",
    "\n",
    "### Pyenv-Virtualenv\n",
    "\n",
    "Through `pyenv-virtualenv` one can install and manage different python environments for different python versions. In order to create a virtual environment using a specific (already installed via `pyenv`) Python version:\n",
    "\n",
    "```\n",
    "pyenv virtualenv <version> <virtualenv>\n",
    "```\n",
    "\n",
    "Similarly to `pyenv`, in oder to see all available enviroments installed via `pyenv-virtualenv`:\n",
    "\n",
    "```\n",
    "pyenv virtualenvs\n",
    "```\n",
    "\n",
    "Once a virtualenv is installed it can be set as the global virtualenv by:\n",
    "\n",
    "```\n",
    "pyenv global <virtualenv>\n",
    "```\n",
    "\n",
    "or locally by:\n",
    "\n",
    "```\n",
    "pyenv local <virtualenv>\n",
    "```\n",
    "\n",
    "Finally, a virtualenv can be uninstalled simply by:\n",
    "\n",
    "```\n",
    "pyenv uninstall <virtualenv>\n",
    "```"
   ]
  },
  {
   "cell_type": "markdown",
   "metadata": {},
   "source": [
    "## Syntax\n",
    "\n",
    "### Indentation\n",
    "Indentation refers to the spaces at the beginning of a code line. Where in other programming languages the indentation in code is for readability only, the indentation in Python is very important. Python uses indentation to indicate a block of code. The number of spaces is up to you as a programmer, the most common use is four, but it has to be at least one. However you have to use the same number of spaces in the same block of code, otherwise Python will give you an error. \n",
    "\n",
    "### Comments\n",
    "Comments start with a `#`, and Python will render the rest of the line as a comment. Comments can be used to explain Python code, to make the code more readable, and to prevent execution when testing code. Python does not really have a syntax for multi line comments. To add a multiline comment you could insert a `#` for each line.\n",
    "\n",
    "### Variables\n",
    "Variables are containers for storing data values. Python has no command for declaring a variable. A variable is created the moment you first assign a value to it. Variables do not need to be declared with any particular type, and can even change type after they have been set. Variable names are case-sensitive.\n",
    "A variable can have a short name (like `x` and `y`) or a more descriptive name (`age`, `carname`, `total_volume`). However there are some specific rules for Python variables:\n",
    "* A variable name must start with a letter or the underscore character\n",
    "* A variable name cannot start with a number\n",
    "* A variable name can only contain alpha-numeric characters and underscores (A-z, 0-9, and _ )\n",
    "* Variable names are case-sensitive (`age`, `Age` and `AGE` are three different variables)\n",
    "\n",
    "Variable names with more than one word can be difficult to read. There are several techniques you can use to make them more readable:\n",
    "* **Camel Case**, where each word, except the first, starts with a capital letter:\n",
    "\n",
    "```\n",
    "myVariableName = \"John\"\n",
    "```\n",
    "\n",
    "* **Pascal Case**, where each word starts with a capital letter:\n",
    "\n",
    "```\n",
    "MyVariableName = \"John\"\n",
    "```\n",
    "\n",
    "* **Snake Case**, where each word is separated by an underscore character:\n",
    "\n",
    "```\n",
    "my_variable_name = \"John\"\n",
    "```"
   ]
  },
  {
   "cell_type": "markdown",
   "metadata": {
    "tags": []
   },
   "source": [
    "## Operators\n",
    "\n",
    "Operators are used to perform operations on variables and values. Python divides the operators in the following groups."
   ]
  },
  {
   "cell_type": "markdown",
   "metadata": {},
   "source": [
    "* **Arithmetic Operators** used with numeric values to perform common mathematical operations.\n",
    "    * Addition: `+`\n",
    "    * Subtraction: `-`\n",
    "    * Multiplication: `*`\n",
    "    * Division: `/`\n",
    "    * Modulus: `%`\n",
    "    * Exponantiation: `**`\n",
    "    * Floor division: `//`"
   ]
  },
  {
   "cell_type": "markdown",
   "metadata": {},
   "source": [
    "* **Assignment Operators** used to assign values to variables.\n",
    "    * `=`\n",
    "    * `+=`\n",
    "    * `-=`\n",
    "    * `*=`\n",
    "    * `/=`\n",
    "    * `%=`\n",
    "    * `//=`\n",
    "    * `**=`\n",
    "    * `&=`\n",
    "    * `|=`\n",
    "    * `^=`"
   ]
  },
  {
   "cell_type": "markdown",
   "metadata": {},
   "source": [
    "* **Comparison Operators** used to compare two values.\n",
    "    * Equal `==`\n",
    "    * Not Equal `!=`\n",
    "    * Greater Than `>`\n",
    "    * Less Than `<`\n",
    "    * Greater Than Or Equal To `>=`\n",
    "    * Less Than Or Equal To `<=`\n",
    "    \n",
    "These conditions can be used in several ways, most commonly in `if statements` and `loops` which we will see later."
   ]
  },
  {
   "cell_type": "markdown",
   "metadata": {},
   "source": [
    "* **Logical Operators** used to combine conditional statements.\n",
    "    * `and` (returns `True` if both statements are true)\n",
    "    * `or` (returns `True` if one of the statements is true)\n",
    "    * `not` (returns `False` if the result is true)"
   ]
  },
  {
   "cell_type": "markdown",
   "metadata": {},
   "source": [
    "* **Identity Operators** used to compare the objects, not if they are equal, but if they are actually the same object, with the same memory location.\n",
    "    * `is` (returns `True` if both variables are the same object)\n",
    "    * `is not` (returns `True` if both variables are not the same object)"
   ]
  },
  {
   "cell_type": "markdown",
   "metadata": {},
   "source": [
    "* **Membership Operators** used to test if a sequence is presented in an object.\n",
    "    * `in` (returns `True` if a sequence with the specified value is present in the object)\n",
    "    * `not in` (returns `True` if a sequence with the specified value is not present in the object)"
   ]
  },
  {
   "cell_type": "markdown",
   "metadata": {},
   "source": [
    "* **Bitwise Operators** used to compare binary numbers.\n",
    "    * AND: `&` (sets each bit to 1 if both bits are 1)\n",
    "    * OR: `|` (sets each bit to 1 if one of two bits is 1)\n",
    "    * XOR: `^` (sets each bit to 1 if only one of two bits is 1)\n",
    "    * NOT: `~` (inverts all the bits)\n",
    "    * Zero fill left: `<<`  (shift left by pushing zeros in from the right and let the leftmost bits fall off)\n",
    "    * Signed right shift: `>>` (shift right by pushing copies of the leftmost bit in from the left, and let the rightmost bits fall off)"
   ]
  },
  {
   "cell_type": "markdown",
   "metadata": {
    "tags": []
   },
   "source": [
    "## Data Types\n",
    "\n",
    "In computer science and computer programming, a \"data type\" (or simply \"type\") is a set of possible values and a set of allowed operations on it. A data type tells the compiler or interpreter how the programmer intends to use the data. A data type constrains the possible values that an expression, such as a variable or a function, might take. This data type defines the operations that can be done on the data, the meaning of the data, and the way values of that type can be stored. Python has the following data types built-in by default, in these categories:\n",
    "\n",
    "* **Text Type**: `str`\n",
    "* **Numeric Types**: `int`, `float`, `complex`\n",
    "* **Sequence Types**: `list`, `tuple`, `range`\n",
    "* **Mapping Type**: `dict`\n",
    "* **Set Types**: `set`, `frozenset`\n",
    "* **Boolean Type**: `bool`\n",
    "* **Binary Types**: `bytes`, `bytearray`, `memoryview`\n",
    "* **None Type**: `NoneType`\n",
    "\n",
    "In Python, the data type is set when you assign a value to a variable."
   ]
  },
  {
   "cell_type": "markdown",
   "metadata": {},
   "source": [
    "### Numeric Types\n",
    "\n",
    "There are three numeric types in Python:\n",
    "\n",
    "* `int`: Int, or integer, is a whole number, positive or negative, without decimals, of unlimited length.\n",
    "* `float`: Float, or \"floating point number\" is a number, positive or negative, containing one or more decimals.\n",
    "* `complex`: Complex numbers are written with a \"j\" as the imaginary part (rarely used)\n",
    "\n",
    "Variables of numeric types are created when you assign a value to them:"
   ]
  },
  {
   "cell_type": "code",
   "execution_count": 84,
   "metadata": {},
   "outputs": [
    {
     "data": {
      "text/plain": [
       "(1, 2.8, 1j)"
      ]
     },
     "execution_count": 84,
     "metadata": {},
     "output_type": "execute_result"
    }
   ],
   "source": [
    "# int\n",
    "x = 1    \n",
    "\n",
    "# float\n",
    "y = 2.8  \n",
    "\n",
    "# complex\n",
    "z = 1j   \n",
    "\n",
    "x,y,z"
   ]
  },
  {
   "cell_type": "markdown",
   "metadata": {},
   "source": [
    "To verify the type of any object in Python, use the `type()` function:"
   ]
  },
  {
   "cell_type": "code",
   "execution_count": 71,
   "metadata": {},
   "outputs": [
    {
     "data": {
      "text/plain": [
       "(int, float, complex)"
      ]
     },
     "execution_count": 71,
     "metadata": {},
     "output_type": "execute_result"
    }
   ],
   "source": [
    "type(x), type(y), type(z)"
   ]
  },
  {
   "cell_type": "markdown",
   "metadata": {},
   "source": [
    "You can convert from one type to another with the `int()`, `float()`, and `complex()` methods (note that you cannot convert complex numbers into another number type):"
   ]
  },
  {
   "cell_type": "code",
   "execution_count": 85,
   "metadata": {},
   "outputs": [
    {
     "data": {
      "text/plain": [
       "(float, int, complex)"
      ]
     },
     "execution_count": 85,
     "metadata": {},
     "output_type": "execute_result"
    }
   ],
   "source": [
    "# convert from int to float\n",
    "a = float(x)\n",
    "\n",
    "# convert from float to int:\n",
    "b = int(y)\n",
    "\n",
    "# convert from int to complex:\n",
    "c = complex(x)\n",
    "\n",
    "type(a), type(b), type(c)"
   ]
  },
  {
   "cell_type": "markdown",
   "metadata": {
    "tags": []
   },
   "source": [
    "### Text Types (Strings)\n",
    "\n",
    "There is just one text type in Python: `str`. Like many other popular programming languages, strings in Python are arrays of bytes representing unicode characters. However, Python does not have a character data type, a single character is simply a string with a length of 1.\n",
    "\n",
    "Strings in python are surrounded by either single quotation marks, or double quotation marks."
   ]
  },
  {
   "cell_type": "code",
   "execution_count": 86,
   "metadata": {},
   "outputs": [
    {
     "data": {
      "text/plain": [
       "'Hello World'"
      ]
     },
     "execution_count": 86,
     "metadata": {},
     "output_type": "execute_result"
    }
   ],
   "source": [
    "a = \"Hello World\"\n",
    "a"
   ]
  },
  {
   "cell_type": "markdown",
   "metadata": {},
   "source": [
    "You can assign a multiline string to a variable by using three quotes (in the result, the line breaks are inserted at the same position as in the code):"
   ]
  },
  {
   "cell_type": "code",
   "execution_count": 88,
   "metadata": {},
   "outputs": [
    {
     "name": "stdout",
     "output_type": "stream",
     "text": [
      "Lorem ipsum dolor sit amet,\n",
      "consectetur adipiscing elit,\n",
      "sed do eiusmod tempor incididunt\n",
      "ut labore et dolore magna aliqua.\n"
     ]
    }
   ],
   "source": [
    "b = \"\"\"Lorem ipsum dolor sit amet,\n",
    "consectetur adipiscing elit,\n",
    "sed do eiusmod tempor incididunt\n",
    "ut labore et dolore magna aliqua.\"\"\"\n",
    "\n",
    "print(b)"
   ]
  },
  {
   "cell_type": "markdown",
   "metadata": {},
   "source": [
    "Square brackets can be used to access elements of the string (first letter index is 0) or slicing."
   ]
  },
  {
   "cell_type": "code",
   "execution_count": 89,
   "metadata": {},
   "outputs": [
    {
     "name": "stdout",
     "output_type": "stream",
     "text": [
      "e\n",
      "d\n",
      "ell\n"
     ]
    }
   ],
   "source": [
    "a = \"Hello, World!\"\n",
    "print(a[1])\n",
    "\n",
    "# access element from the end. (here last letter is 1)\n",
    "print(a[-2])\n",
    "\n",
    "# slicing: access more than one element (leave blanck for beggining or end)\n",
    "print(a[1:4])"
   ]
  },
  {
   "cell_type": "markdown",
   "metadata": {},
   "source": [
    "To get the length of a string, use the `len()` function."
   ]
  },
  {
   "cell_type": "code",
   "execution_count": 90,
   "metadata": {},
   "outputs": [
    {
     "data": {
      "text/plain": [
       "13"
      ]
     },
     "execution_count": 90,
     "metadata": {},
     "output_type": "execute_result"
    }
   ],
   "source": [
    "a = \"Hello, World!\"\n",
    "len(a)"
   ]
  },
  {
   "cell_type": "markdown",
   "metadata": {},
   "source": [
    "To check if a certain phrase or character is present in a string, we can use the keyword `in` and similarly to check if a certain phrase or character is NOT present in a string, we can use the keyword `not in`."
   ]
  },
  {
   "cell_type": "code",
   "execution_count": 91,
   "metadata": {},
   "outputs": [
    {
     "name": "stdout",
     "output_type": "stream",
     "text": [
      "True\n",
      "True\n"
     ]
    }
   ],
   "source": [
    "txt = \"The best things in life are free!\"\n",
    "print(\"free\" in txt)\n",
    "print(\"expensive\" not in txt)"
   ]
  },
  {
   "cell_type": "markdown",
   "metadata": {},
   "source": [
    "To concatenate, or combine, two strings you can use the `+` operator."
   ]
  },
  {
   "cell_type": "code",
   "execution_count": 92,
   "metadata": {},
   "outputs": [
    {
     "data": {
      "text/plain": [
       "'Hello World'"
      ]
     },
     "execution_count": 92,
     "metadata": {},
     "output_type": "execute_result"
    }
   ],
   "source": [
    "a = \"Hello\"\n",
    "b = \"World\"\n",
    "c = a + \" \" + b\n",
    "c"
   ]
  },
  {
   "cell_type": "markdown",
   "metadata": {},
   "source": [
    "We cannot combine strings and numbers with the `+` operator. Another way we can combine strings and numbers is by using the `format()` method, which takes the passed arguments, formats them, and places them in the string where the placeholders `{}` are."
   ]
  },
  {
   "cell_type": "code",
   "execution_count": 93,
   "metadata": {},
   "outputs": [
    {
     "data": {
      "text/plain": [
       "'My name is John, and I am 36'"
      ]
     },
     "execution_count": 93,
     "metadata": {},
     "output_type": "execute_result"
    }
   ],
   "source": [
    "name = 'John'\n",
    "age = 36\n",
    "txt = \"My name is {}, and I am {}\".format(name, age)\n",
    "txt"
   ]
  },
  {
   "cell_type": "markdown",
   "metadata": {},
   "source": [
    "However the most pythonic way to do so is through the so called \"f-strings\". Also called \"string literals\", f-strings are string literals that have an `f` at the beginning and curly braces containing expressions that will be replaced with their values. The expressions are evaluated at runtime and then formatted using the `__format__` protocol."
   ]
  },
  {
   "cell_type": "code",
   "execution_count": 94,
   "metadata": {},
   "outputs": [
    {
     "data": {
      "text/plain": [
       "'My name is John, and I am 36'"
      ]
     },
     "execution_count": 94,
     "metadata": {},
     "output_type": "execute_result"
    }
   ],
   "source": [
    "name = 'John'\n",
    "age = 36\n",
    "txt = f\"My name is {name}, and I am {age}\"\n",
    "txt"
   ]
  },
  {
   "cell_type": "markdown",
   "metadata": {},
   "source": [
    "To insert characters that are illegal in a string, use an escape character, which is a backslash `\\` followed by the character you want to insert. Here follows the full list of available escape charactes.\n",
    "\n",
    "* Single Quote: `\\'` \n",
    "* Backslash: `\\\\` \n",
    "* New Line: `\\n` \n",
    "* Carriage Return `\\r`\n",
    "* Tab `\\t`\n",
    "* Backspace `\\b`\n",
    "* Form Feed `\\f`\n",
    "* Octal value `\\ooo`\n",
    "* Hex value `\\xhh`"
   ]
  },
  {
   "cell_type": "markdown",
   "metadata": {},
   "source": [
    "Here follows all available methods of the `str` object."
   ]
  },
  {
   "cell_type": "code",
   "execution_count": null,
   "metadata": {},
   "outputs": [],
   "source": [
    "# converts the first character to upper case\n",
    "capitalize() \n",
    "\n",
    "# converts string into lower case\n",
    "casefold() \n",
    "\n",
    "# returns a centered string\n",
    "center()\n",
    "\n",
    "# returns the number of times a specified value occurs in a string\n",
    "count() \n",
    "\n",
    "# returns an encoded version of the string\n",
    "encode() \n",
    "\n",
    "# returns true if the string ends with the specified value\n",
    "endswith() \n",
    "\n",
    "# sets the tab size of the string\n",
    "expandtabs() \n",
    "\n",
    "# searches the string for a specified value and returns the position of where it was found\n",
    "find() \n",
    "\n",
    "# formats specified values in a string\n",
    "format() \n",
    "\n",
    "# formats specified values in a string\n",
    "format_map() \n",
    "\n",
    "# searches the string for a specified value and returns the position of where it was found\n",
    "index() \n",
    "\n",
    "# returns True if all characters in the string are alphanumeric\n",
    "isalnum() \n",
    "\n",
    "# returns True if all characters in the string are in the alphabet\n",
    "isalpha() \n",
    "\n",
    "# returns True if all characters in the string are ascii characters\n",
    "isascii() \n",
    "\n",
    "# returns True if all characters in the string are decimals\n",
    "isdecimal() \n",
    "\n",
    "# returns True if all characters in the string are digits\n",
    "isdigit() \n",
    "\n",
    "# returns True if the string is an identifier\n",
    "isidentifier() \n",
    "\n",
    "# returns True if all characters in the string are lower case\n",
    "islower() \n",
    "\n",
    "# returns True if all characters in the string are numeric\n",
    "isnumeric() \n",
    "\n",
    "# returns True if all characters in the string are printable\n",
    "isprintable() \n",
    "\n",
    "# returns True if all characters in the string are whitespaces\n",
    "isspace() \n",
    "\n",
    "# returns True if the string follows the rules of a title\n",
    "istitle() \n",
    "\n",
    "# returns True if all characters in the string are upper case\n",
    "isupper() \n",
    "\n",
    "# converts the elements of an iterable into a string\n",
    "join() \n",
    "\n",
    "# returns a left justified version of the string\n",
    "ljust() \n",
    "\n",
    "# converts a string into lower case\n",
    "lower() \n",
    "\n",
    "# returns a left trim version of the string\n",
    "lstrip() \n",
    "\n",
    "# returns a translation table to be used in translations\n",
    "maketrans() \n",
    "\n",
    "# returns a tuple where the string is parted into three parts\n",
    "partition() \n",
    "\n",
    "# returns a string where a specified value is replaced with a specified value\n",
    "replace() \n",
    "\n",
    "# searches the string for a specified value and returns the last position of where it was found\n",
    "rfind() \n",
    "\n",
    "# searches the string for a specified value and returns the last position of where it was found\n",
    "rindex() \n",
    "\n",
    "# returns a right justified version of the string\n",
    "rjust() \n",
    "\n",
    "# returns a tuple where the string is parted into three parts\n",
    "rpartition() \n",
    "\n",
    "# splits the string at the specified separator, and returns a list\n",
    "rsplit() \n",
    "\n",
    "# returns a right trim version of the string\n",
    "rstrip() \n",
    "\n",
    "# splits the string at the specified separator, and returns a list\n",
    "split() \n",
    "\n",
    "# splits the string at line breaks and returns a list\n",
    "splitlines() \n",
    "\n",
    "# returns true if the string starts with the specified value\n",
    "startswith() \n",
    "\n",
    "# returns a trimmed version of the string\n",
    "strip() \n",
    "\n",
    "# swaps cases, lower case becomes upper case and vice versa\n",
    "swapcase() \n",
    "\n",
    "# converts the first character of each word to upper case\n",
    "title() \n",
    "\n",
    "# returns a translated string\n",
    "translate() \n",
    "\n",
    "# converts a string into upper case\n",
    "upper() \n",
    "\n",
    "# fills the string with a specified number of 0 values at the beginning\n",
    "zfill() "
   ]
  },
  {
   "cell_type": "markdown",
   "metadata": {},
   "source": [
    "### Boolean Types"
   ]
  },
  {
   "cell_type": "markdown",
   "metadata": {},
   "source": [
    "In programming you often need to know if an expression is true or false. \"Booleans\" represent one of these two values: `True` or `False`. You can evaluate any expression in Python, and get one of the two answers. When you compare two values, the expression is evaluated and Python returns the Boolean answer.\n",
    "\n",
    "From Python's perspective, boolenas are defined as objects with the data type `bool`."
   ]
  },
  {
   "cell_type": "code",
   "execution_count": 95,
   "metadata": {},
   "outputs": [
    {
     "name": "stdout",
     "output_type": "stream",
     "text": [
      "True\n",
      "False\n",
      "False\n"
     ]
    }
   ],
   "source": [
    "print(10 > 9)\n",
    "print(10 == 9)\n",
    "print(10 < 9)"
   ]
  },
  {
   "cell_type": "markdown",
   "metadata": {},
   "source": [
    "In Python almost any value is evaluated to `True` if it has some sort of content. For example, any string is `True`, except empty strings. Similarly any number is `True`, except 0. Any list, tuple, set, and dictionary (we will see all of them in a while) are `True`, except empty ones."
   ]
  },
  {
   "cell_type": "markdown",
   "metadata": {},
   "source": [
    "Python also has many built-in functions that return a boolean value. The most important one is the `isinstance()` function, which can be used to determine if an object is of a certain data type."
   ]
  },
  {
   "cell_type": "code",
   "execution_count": null,
   "metadata": {},
   "outputs": [
    {
     "name": "stdout",
     "output_type": "stream",
     "text": [
      "True\n"
     ]
    }
   ],
   "source": [
    "x = 200\n",
    "isinstance(x, int)"
   ]
  },
  {
   "cell_type": "markdown",
   "metadata": {},
   "source": [
    "### Sequence Types\n",
    "\n",
    "There are four collection data types in the Python programming language:\n",
    "* **List** is a collection which is ordered and changeable. Allows duplicate members.\n",
    "* **Tuple** is a collection which is ordered and unchangeable. Allows duplicate members.\n",
    "* **Set** is a collection which is unordered, unchangeable*, and unindexed. No duplicate members.\n",
    "* **Dictionary** is a collection which is ordered** and changeable. No duplicate members."
   ]
  },
  {
   "cell_type": "markdown",
   "metadata": {},
   "source": [
    "#### Lists\n",
    "\n",
    "Lists are one of the 4 built-in data types in Python used to store multiple items in a single variable. List items are: \n",
    "* **Ordered**: Items have a defined order, and that order will not change (there are some list methods that will change the order, but in general the order of the items will not change). If you add new items to a list, the new items will be placed at the end of the list.\n",
    "* **Changeable**: We can change, add, and remove items in a list after it has been created.\n",
    "* **Allow Duplicate Values**: Since lists are indexed, lists can have items with the same value.\n",
    "\n",
    "Last but not least, list items can be of any data type. A list can even contain different data types. From Python's perspective, lists are defined as objects with the data type `list`.\n",
    "\n",
    "Lists are created using square brackets."
   ]
  },
  {
   "cell_type": "code",
   "execution_count": 33,
   "metadata": {},
   "outputs": [
    {
     "name": "stdout",
     "output_type": "stream",
     "text": [
      "['apple', 'banana', 'cherry', 'banana']\n"
     ]
    }
   ],
   "source": [
    "fruits = [\"apple\", \"banana\", \"cherry\", \"banana\"]\n",
    "fruits"
   ]
  },
  {
   "cell_type": "markdown",
   "metadata": {},
   "source": [
    "Each list item is indexed with the first item having index 0, the second item index 1 etc. Each item can be accessed by referring to the index number. (Negative Indexing and Slicing also applies to lists)"
   ]
  },
  {
   "cell_type": "code",
   "execution_count": 34,
   "metadata": {},
   "outputs": [
    {
     "name": "stdout",
     "output_type": "stream",
     "text": [
      "banana banana\n"
     ]
    }
   ],
   "source": [
    "fruits[1], fruits[-1]"
   ]
  },
  {
   "cell_type": "markdown",
   "metadata": {
    "tags": []
   },
   "source": [
    "To change the value of a specific item, refer to the index number."
   ]
  },
  {
   "cell_type": "code",
   "execution_count": 36,
   "metadata": {
    "tags": []
   },
   "outputs": [],
   "source": [
    "fruits[1] = \"watermellon\""
   ]
  },
  {
   "cell_type": "markdown",
   "metadata": {},
   "source": [
    "To determine how many items a list has, use the `len()` function (same as in strings)."
   ]
  },
  {
   "cell_type": "code",
   "execution_count": 27,
   "metadata": {},
   "outputs": [
    {
     "data": {
      "text/plain": [
       "3"
      ]
     },
     "execution_count": 27,
     "metadata": {},
     "output_type": "execute_result"
    }
   ],
   "source": [
    "len(fruits)"
   ]
  },
  {
   "cell_type": "markdown",
   "metadata": {},
   "source": [
    "To determine if a specified item is present in a list use the `in` keyword."
   ]
  },
  {
   "cell_type": "code",
   "execution_count": 28,
   "metadata": {},
   "outputs": [
    {
     "data": {
      "text/plain": [
       "True"
      ]
     },
     "execution_count": 28,
     "metadata": {},
     "output_type": "execute_result"
    }
   ],
   "source": [
    "\"apple\" in fruits"
   ]
  },
  {
   "cell_type": "markdown",
   "metadata": {},
   "source": [
    "Here follows all available methods of the `list` object."
   ]
  },
  {
   "cell_type": "code",
   "execution_count": null,
   "metadata": {},
   "outputs": [],
   "source": [
    "# adds an element at the end of the list\n",
    "append()\n",
    "\n",
    "# removes all the elements from the list\n",
    "clear()\n",
    "\n",
    "# returns a copy of the list\n",
    "copy()\n",
    "\n",
    "# returns the number of elements with the specified value\n",
    "count()\n",
    "\n",
    "# adds the elements of a list (or any iterable), to the end of the current list\n",
    "extend()\n",
    "\n",
    "# returns the index of the first element with the specified value\n",
    "index()\n",
    "\n",
    "# adds an element at the specified position\n",
    "insert()\n",
    "\n",
    "# removes an element at the specified position\n",
    "pop()\n",
    "\n",
    "# removes the item with the specified value\n",
    "remove()\n",
    "\n",
    "# reverses the order of the list\n",
    "reverse()\n",
    "\n",
    "# sorts the list\n",
    "sort()"
   ]
  },
  {
   "cell_type": "markdown",
   "metadata": {
    "tags": []
   },
   "source": [
    "#### Tuples\n",
    "\n",
    "Tuples are one of the 4 built-in data types in Python used to store multiple items in a single variable. Tuple items are:\n",
    "* **Ordered**: Items have a defined order, and that order will not change.\n",
    "* **Unchangeable**: We cannot change, add or remove items after the tuple has been created.\n",
    "* **Allow Duplicate Values**: Since tuples are indexed, tuples can have items with the same value.\n",
    "\n",
    "Last but not least, tuple items can be of any data type. A tuple can even contain different data types. From Python's perspective, tuples are defined as objects with the data type `tuple`.\n",
    "\n",
    "Tuples are written with round brackets."
   ]
  },
  {
   "cell_type": "code",
   "execution_count": 52,
   "metadata": {},
   "outputs": [
    {
     "data": {
      "text/plain": [
       "('apple', 'banana', 'cherry', 'apple', 'cherry')"
      ]
     },
     "execution_count": 52,
     "metadata": {},
     "output_type": "execute_result"
    }
   ],
   "source": [
    "fruits = (\"apple\", \"banana\", \"cherry\", \"apple\", \"cherry\")\n",
    "fruits"
   ]
  },
  {
   "cell_type": "markdown",
   "metadata": {},
   "source": [
    "Each tuple item is indexed with the first item having index 0, the second item index 1 etc. Each item can be accessed by referring to the index number. (Negative Indexing and Slicing also applies to tuples)"
   ]
  },
  {
   "cell_type": "code",
   "execution_count": 53,
   "metadata": {},
   "outputs": [
    {
     "data": {
      "text/plain": [
       "('banana', 'cherry')"
      ]
     },
     "execution_count": 53,
     "metadata": {},
     "output_type": "execute_result"
    }
   ],
   "source": [
    "fruits[1], fruits[-1]"
   ]
  },
  {
   "cell_type": "markdown",
   "metadata": {},
   "source": [
    "To determine how many items a tuple has, use the `len()` function (same as in strings and lists)."
   ]
  },
  {
   "cell_type": "code",
   "execution_count": 54,
   "metadata": {},
   "outputs": [
    {
     "data": {
      "text/plain": [
       "5"
      ]
     },
     "execution_count": 54,
     "metadata": {},
     "output_type": "execute_result"
    }
   ],
   "source": [
    "len(fruits)"
   ]
  },
  {
   "cell_type": "markdown",
   "metadata": {},
   "source": [
    "To determine if a specified item is present in a tuple use the `in` keyword."
   ]
  },
  {
   "cell_type": "code",
   "execution_count": 55,
   "metadata": {},
   "outputs": [
    {
     "data": {
      "text/plain": [
       "True"
      ]
     },
     "execution_count": 55,
     "metadata": {},
     "output_type": "execute_result"
    }
   ],
   "source": [
    "\"apple\" in fruits"
   ]
  },
  {
   "cell_type": "markdown",
   "metadata": {},
   "source": [
    "Here follows all available methods of the `tuple` object."
   ]
  },
  {
   "cell_type": "code",
   "execution_count": null,
   "metadata": {},
   "outputs": [],
   "source": [
    "# returns the number of times a specified value occurs in a tuple\n",
    "count()\n",
    "\n",
    "# searches the tuple for a specified value and returns the position of where it was found\n",
    "index()"
   ]
  },
  {
   "cell_type": "markdown",
   "metadata": {
    "tags": []
   },
   "source": [
    "#### Sets\n",
    "\n",
    "Sets are one of the 4 built-in data types in Python used to store multiple items in a single variable. Sets items are:\n",
    "* **Unrdered**: Items do not have a defined order. They can appear in a different order every time you use them, and cannot be referred to by index or key.\n",
    "* **Unchangeable**: We cannot change, add or remove items after the tuple has been created.\n",
    "* **Duplicates Not Allowed**: Since sets are not indexed, sets cannot have items with the same value.\n",
    "\n",
    "Last but not least, set items can be of any data type. A set can even contain different data types. From Python's perspective, sets are defined as objects with the data type `set`.\n",
    "\n",
    "Sets are written with curly brackets."
   ]
  },
  {
   "cell_type": "code",
   "execution_count": 56,
   "metadata": {},
   "outputs": [
    {
     "data": {
      "text/plain": [
       "{'apple', 'banana', 'cherry'}"
      ]
     },
     "execution_count": 56,
     "metadata": {},
     "output_type": "execute_result"
    }
   ],
   "source": [
    "fruits = {\"apple\", \"banana\", \"cherry\", \"apple\", \"cherry\"}\n",
    "fruits"
   ]
  },
  {
   "cell_type": "markdown",
   "metadata": {},
   "source": [
    "Since sets are not indexed, you cannot access items in a set by referring to an index or a key. This makes them quite useless for every day purposes, and for that reason sets are not that much used. In what follows we will ignore them."
   ]
  },
  {
   "cell_type": "markdown",
   "metadata": {},
   "source": [
    "To determine how many items a set has, use the `len()` function (same as in strings, lists and tuples)."
   ]
  },
  {
   "cell_type": "code",
   "execution_count": 57,
   "metadata": {},
   "outputs": [
    {
     "data": {
      "text/plain": [
       "3"
      ]
     },
     "execution_count": 57,
     "metadata": {},
     "output_type": "execute_result"
    }
   ],
   "source": [
    "len(fruits)"
   ]
  },
  {
   "cell_type": "markdown",
   "metadata": {},
   "source": [
    "To determine if a specified item is present in a set use the `in` keyword."
   ]
  },
  {
   "cell_type": "code",
   "execution_count": 58,
   "metadata": {},
   "outputs": [
    {
     "data": {
      "text/plain": [
       "True"
      ]
     },
     "execution_count": 58,
     "metadata": {},
     "output_type": "execute_result"
    }
   ],
   "source": [
    "\"apple\" in fruits"
   ]
  },
  {
   "cell_type": "markdown",
   "metadata": {},
   "source": [
    "Here follows all available methods of the `set` object."
   ]
  },
  {
   "cell_type": "code",
   "execution_count": null,
   "metadata": {},
   "outputs": [],
   "source": [
    "# adds an element to the set\n",
    "add()\n",
    "\n",
    "# removes all the elements from the set\n",
    "clear() \n",
    "\n",
    "# returns a copy of the set\n",
    "copy() \n",
    "\n",
    "# returns a set containing the difference between two or more sets\n",
    "difference() \n",
    "\n",
    "# removes the items in this set that are also included in another, specified set\n",
    "difference_update() \n",
    "\n",
    "# remove the specified item\n",
    "discard() \n",
    "\n",
    "# returns a set, that is the intersection of two other sets\n",
    "intersection() \n",
    "\n",
    "# removes the items in this set that are not present in other, specified set(s)\n",
    "intersection_update() \n",
    "\n",
    "# returns whether two sets have a intersection or not\n",
    "isdisjoint() \n",
    "\n",
    "# returns whether another set contains this set or not\n",
    "issubset() \n",
    "\n",
    "# returns whether this set contains another set or not\n",
    "issuperset() \n",
    "\n",
    "# removes an element from the set\n",
    "pop() \n",
    "\n",
    "# removes the specified element\n",
    "remove() \n",
    "\n",
    "# returns a set with the symmetric differences of two sets\n",
    "symmetric_difference() \n",
    "\n",
    "# inserts the symmetric differences from this set and another\n",
    "symmetric_difference_update() \n",
    "\n",
    "# return a set containing the union of sets\n",
    "union() \n",
    "\n",
    "# update the set with the union of this set and others\n",
    "update() "
   ]
  },
  {
   "cell_type": "markdown",
   "metadata": {
    "tags": []
   },
   "source": [
    "#### Dictionaries\n",
    "\n",
    "Dictionaries are one of the 4 built-in data types in Python used to store multiple items in a single variable. Dictionaries items are:\n",
    "* **Ordered**: Items have a defined order, and that order will not change.\n",
    "* **Changeable**: We can change, add or remove items after the dictionary has been created.\n",
    "* **Duplicates Not Allowed**: We cannot have items with the same pair of key, value.\n",
    "\n",
    "Last but not least, tuple items can be of any data type. A tuple can even contain different data types. From Python's perspective, tuples are defined as objects with the data type `dict`.\n",
    "\n",
    "Dictionaries are written with curly brackets, and have keys and values."
   ]
  },
  {
   "cell_type": "code",
   "execution_count": 59,
   "metadata": {},
   "outputs": [
    {
     "data": {
      "text/plain": [
       "{'brand': 'Ford', 'model': 'Mustang', 'year': 1964}"
      ]
     },
     "execution_count": 59,
     "metadata": {},
     "output_type": "execute_result"
    }
   ],
   "source": [
    "cars = {\n",
    "  \"brand\": \"Ford\",\n",
    "  \"model\": \"Mustang\",\n",
    "  \"year\": 1964\n",
    "}\n",
    "cars"
   ]
  },
  {
   "cell_type": "markdown",
   "metadata": {},
   "source": [
    "Dictionary items are presented in \"key:value\" pairs. You can access the items of a dictionary by referring to its key name, inside square brackets."
   ]
  },
  {
   "cell_type": "code",
   "execution_count": 60,
   "metadata": {},
   "outputs": [
    {
     "data": {
      "text/plain": [
       "'Mustang'"
      ]
     },
     "execution_count": 60,
     "metadata": {},
     "output_type": "execute_result"
    }
   ],
   "source": [
    "cars['model']"
   ]
  },
  {
   "cell_type": "markdown",
   "metadata": {},
   "source": [
    "There is also a method called `get()` that will give you the same result."
   ]
  },
  {
   "cell_type": "code",
   "execution_count": 61,
   "metadata": {},
   "outputs": [
    {
     "data": {
      "text/plain": [
       "'Mustang'"
      ]
     },
     "execution_count": 61,
     "metadata": {},
     "output_type": "execute_result"
    }
   ],
   "source": [
    "cars.get('model')"
   ]
  },
  {
   "cell_type": "markdown",
   "metadata": {
    "tags": []
   },
   "source": [
    "To change the value of a specific item, or create a new one, simply refer to the key."
   ]
  },
  {
   "cell_type": "code",
   "execution_count": 63,
   "metadata": {
    "tags": []
   },
   "outputs": [
    {
     "data": {
      "text/plain": [
       "{'brand': 'Ford', 'model': 'Ferari', 'year': 1964, 'color': 'red'}"
      ]
     },
     "execution_count": 63,
     "metadata": {},
     "output_type": "execute_result"
    }
   ],
   "source": [
    "cars['model'] = \"Ferari\"\n",
    "cars['color'] = 'red'\n",
    "cars"
   ]
  },
  {
   "cell_type": "markdown",
   "metadata": {
    "tags": []
   },
   "source": [
    "The `keys()` method will return a list of all the keys in the dictionary. The list of the keys is a view of the dictionary, meaning that any changes done to the dictionary will be reflected in the keys list."
   ]
  },
  {
   "cell_type": "code",
   "execution_count": 64,
   "metadata": {
    "tags": []
   },
   "outputs": [
    {
     "data": {
      "text/plain": [
       "dict_keys(['brand', 'model', 'year', 'color'])"
      ]
     },
     "execution_count": 64,
     "metadata": {},
     "output_type": "execute_result"
    }
   ],
   "source": [
    "cars.keys()"
   ]
  },
  {
   "cell_type": "markdown",
   "metadata": {},
   "source": [
    "The `values()` method will return a list of all the values in the dictionary.\n",
    "The list of the values is a view of the dictionary, meaning that any changes done to the dictionary will be reflected in the values list."
   ]
  },
  {
   "cell_type": "code",
   "execution_count": 65,
   "metadata": {},
   "outputs": [
    {
     "data": {
      "text/plain": [
       "dict_values(['Ford', 'Ferari', 1964, 'red'])"
      ]
     },
     "execution_count": 65,
     "metadata": {},
     "output_type": "execute_result"
    }
   ],
   "source": [
    "cars.values()"
   ]
  },
  {
   "cell_type": "markdown",
   "metadata": {},
   "source": [
    "The `items()` method will return each item in a dictionary, as tuples in a list.\n",
    "The returned list is a view of the items of the dictionary, meaning that any changes done to the dictionary will be reflected in the items list."
   ]
  },
  {
   "cell_type": "code",
   "execution_count": 66,
   "metadata": {},
   "outputs": [
    {
     "data": {
      "text/plain": [
       "dict_items([('brand', 'Ford'), ('model', 'Ferari'), ('year', 1964), ('color', 'red')])"
      ]
     },
     "execution_count": 66,
     "metadata": {},
     "output_type": "execute_result"
    }
   ],
   "source": [
    "cars.items()"
   ]
  },
  {
   "cell_type": "markdown",
   "metadata": {},
   "source": [
    "To determine how many items a dictionary has, use the `len()` function (same as in strings, lists, tuples and sets)."
   ]
  },
  {
   "cell_type": "code",
   "execution_count": 67,
   "metadata": {},
   "outputs": [
    {
     "data": {
      "text/plain": [
       "4"
      ]
     },
     "execution_count": 67,
     "metadata": {},
     "output_type": "execute_result"
    }
   ],
   "source": [
    "len(cars)"
   ]
  },
  {
   "cell_type": "markdown",
   "metadata": {},
   "source": [
    "To determine if a specified key is present in a dictionary use the `in` keyword."
   ]
  },
  {
   "cell_type": "code",
   "execution_count": 69,
   "metadata": {},
   "outputs": [
    {
     "data": {
      "text/plain": [
       "True"
      ]
     },
     "execution_count": 69,
     "metadata": {},
     "output_type": "execute_result"
    }
   ],
   "source": [
    "\"color\" in cars"
   ]
  },
  {
   "cell_type": "markdown",
   "metadata": {},
   "source": [
    "Here follow all available methods of the `dict` object."
   ]
  },
  {
   "cell_type": "code",
   "execution_count": null,
   "metadata": {},
   "outputs": [],
   "source": [
    "# removes all the elements from the dictionary\n",
    "clear()\n",
    "\n",
    "# returns a copy of the dictionary\n",
    "copy()\n",
    "\n",
    "# returns a dictionary with the specified keys and value\n",
    "fromkeys()\n",
    "\n",
    "# returns the value of the specified key\n",
    "get()\n",
    "\n",
    "# returns a list containing a tuple for each key value pair\n",
    "items()\n",
    "\n",
    "# returns a list containing the dictionary's keys\n",
    "keys()\n",
    "\n",
    "# removes the element with the specified key\n",
    "pop()\n",
    "\n",
    "# removes the last inserted key-value pair\n",
    "popitem()\n",
    "\n",
    "# returns the value of the specified key. If the key does not exist: insert the key, with the specified value\n",
    "setdefault()\n",
    "\n",
    "# updates the dictionary with the specified key-value pairs\n",
    "update()\n",
    "\n",
    "# returns a list of all the values in the dictionary\n",
    "values()"
   ]
  },
  {
   "cell_type": "markdown",
   "metadata": {
    "tags": []
   },
   "source": [
    "## If Statement\n",
    "\n",
    "Python if statement is one of the most commonly used conditional statements in programming languages. It decides whether certain statements need to be executed or not. It checks for a given condition, if the condition is true, then the set of code present inside the `if` block will be executed otherwise not.\n",
    "\n",
    "An if statement is written by using the `if` keyword and its general form is:\n",
    "\n",
    "```\n",
    "if condition_1:                     \n",
    "    statement_block_1\n",
    "elif condition_2:\n",
    "    statement_block_2\n",
    "elif condition_3:\n",
    "    statement_block_3\n",
    "        ...    \n",
    "else:\n",
    "    statement_block_n\n",
    "```\n",
    "\n",
    "The `elif` keyword is pythons way of saying \"if the previous conditions were not true, then try this condition\". The `else` keyword catches anything which isn't caught by the preceding conditions. \n",
    "\n",
    "An if statement can have multiple `elif` but only one `if` and one `else`. In some cases we only need just one single `if` and we do not need `elif` or `else`.\n",
    "\n",
    "Important: Python relies on indentation to define scope in the code (other programming languages often use curly-brackets for this purpose). if statement without indentation will raise an error."
   ]
  },
  {
   "cell_type": "code",
   "execution_count": 37,
   "metadata": {},
   "outputs": [
    {
     "name": "stdout",
     "output_type": "stream",
     "text": [
      "a is greater than b\n"
     ]
    }
   ],
   "source": [
    "a = 200\n",
    "b = 33\n",
    "if b > a:\n",
    "    print(\"b is greater than a\")\n",
    "elif a == b:\n",
    "    print(\"a and b are equal\")\n",
    "else:\n",
    "    print(\"a is greater than b\")"
   ]
  },
  {
   "cell_type": "markdown",
   "metadata": {},
   "source": [
    "If you have only one statement to execute, one for `if`, and one for `else`, you can put it all on the same line:\n",
    "\n",
    "```\n",
    "statement_1 if condition else statement_2\n",
    "```\n",
    "\n",
    "This \"one-liner\" technique is known as a \"Ternary Operators\", or \"Conditional Expressions\"."
   ]
  },
  {
   "cell_type": "code",
   "execution_count": 98,
   "metadata": {},
   "outputs": [
    {
     "name": "stdout",
     "output_type": "stream",
     "text": [
      "B\n"
     ]
    }
   ],
   "source": [
    "a = 2\n",
    "b = 330\n",
    "print(\"A\") if a > b else print(\"B\")"
   ]
  },
  {
   "cell_type": "markdown",
   "metadata": {},
   "source": [
    "You can have if statements inside if statements, this is called \"nested if statements\"."
   ]
  },
  {
   "cell_type": "code",
   "execution_count": 99,
   "metadata": {},
   "outputs": [
    {
     "name": "stdout",
     "output_type": "stream",
     "text": [
      "Above ten,\n",
      "and also above 20!\n"
     ]
    }
   ],
   "source": [
    "x = 41\n",
    "if x > 10:\n",
    "    print(\"Above ten,\")\n",
    "    if x > 20:\n",
    "        print(\"and also above 20!\")\n",
    "    else:\n",
    "        print(\"but not above 20.\")"
   ]
  },
  {
   "cell_type": "markdown",
   "metadata": {
    "tags": []
   },
   "source": [
    "\"If statements\" cannot be empty, but if you for some reason have an if statement with no content, put in the `pass` statement to avoid getting an error."
   ]
  },
  {
   "cell_type": "code",
   "execution_count": 100,
   "metadata": {},
   "outputs": [],
   "source": [
    "a = 33\n",
    "b = 200\n",
    "if b > a:\n",
    "    pass"
   ]
  },
  {
   "cell_type": "markdown",
   "metadata": {
    "tags": []
   },
   "source": [
    "## Loops\n",
    "\n",
    "Loops are important in Python or in any other programming language as they help you to execute a block of code repeatedly. You will often come face to face with situations where you would need to use a piece of code over and over but you don't want to write the same line of code multiple times.\n",
    "\n",
    "Python has two primitive loop commands:\n",
    "* while loops\n",
    "* for loops"
   ]
  },
  {
   "cell_type": "markdown",
   "metadata": {},
   "source": [
    "### While Loop"
   ]
  },
  {
   "cell_type": "markdown",
   "metadata": {},
   "source": [
    "With the while loop we can execute a set of statements as long as a condition is true. A while loop is written by using the `while` keyword and its general form is:\n",
    "\n",
    "```\n",
    "while condition_:                  \n",
    "    statement_block_while\n",
    "else:\n",
    "    statement_block_else\n",
    "```\n",
    "\n",
    "With the `else` statement we can run a block of code once when the condition no longer is true."
   ]
  },
  {
   "cell_type": "code",
   "execution_count": 101,
   "metadata": {},
   "outputs": [
    {
     "name": "stdout",
     "output_type": "stream",
     "text": [
      "1\n",
      "2\n",
      "3\n",
      "4\n",
      "5\n",
      "The End!\n"
     ]
    }
   ],
   "source": [
    "i = 1\n",
    "while i < 6:\n",
    "    print(i)\n",
    "    i += 1\n",
    "else:\n",
    "    print(\"The End!\")"
   ]
  },
  {
   "cell_type": "markdown",
   "metadata": {},
   "source": [
    "With the `continue` statement we can stop the current iteration, and continue with the next.\n",
    "With the `break` statement we can stop the loop even if the while condition is true. "
   ]
  },
  {
   "cell_type": "code",
   "execution_count": 102,
   "metadata": {
    "tags": []
   },
   "outputs": [
    {
     "name": "stdout",
     "output_type": "stream",
     "text": [
      "1\n",
      "2\n",
      "4\n",
      "5\n"
     ]
    }
   ],
   "source": [
    "i = 1\n",
    "while i < 6:\n",
    "    if i == 3: # continue to the next iteration if i is 3\n",
    "        i += 1\n",
    "        continue\n",
    "    print(i)\n",
    "    if i==5: # break the loop if i is 5\n",
    "        break\n",
    "    i += 1"
   ]
  },
  {
   "cell_type": "markdown",
   "metadata": {},
   "source": [
    "### For Loop\n",
    "\n",
    "A for loop is used for iterating over a sequence (that is either a list, a tuple, a dictionary, a set, or a string). This is less like the `for` keyword in other programming languages, and works more like an iterator method as found in other object-orientated programming languages. With the for loop we can execute a set of statements, once for each item in a list, tuple, set etc. The for loop is constructed with the `for` keyword and its general form is:\n",
    "\n",
    "```\n",
    "for variable in sequence:           \n",
    "    statement_block_for\n",
    "else:\n",
    "    statement_block_else\n",
    "```\n",
    "\n",
    "With the `else` statement we can run a block of code once when the loop is over.\n",
    "\n",
    "In contrast to while loop, the for loop does not require an indexing variable to set beforehand. To loop through a set of code a specified number of times, we can use the `range()` function. The `range()` function returns a sequence of numbers, starting from 0 by default, and increments by 1 (by default), and ends at a specified number."
   ]
  },
  {
   "cell_type": "code",
   "execution_count": 103,
   "metadata": {},
   "outputs": [
    {
     "name": "stdout",
     "output_type": "stream",
     "text": [
      "0\n",
      "1\n",
      "2\n",
      "3\n",
      "4\n"
     ]
    }
   ],
   "source": [
    "for i in range(5):\n",
    "    print(i)"
   ]
  },
  {
   "cell_type": "markdown",
   "metadata": {},
   "source": [
    "Note that `range(6)` is not the values of 0 to 6, but the values 0 to 5. The `range()` function defaults to 0 as a starting value, however it is possible to specify the starting value by adding a parameter: `range(2, 6)`, which means values from 2 to 6 (but not including 6). Finally, the `range()` function defaults to increment the sequence by 1, however it is possible to specify the increment value by adding a third parameter: `range(2, 30, 3)`."
   ]
  },
  {
   "cell_type": "code",
   "execution_count": 104,
   "metadata": {},
   "outputs": [
    {
     "name": "stdout",
     "output_type": "stream",
     "text": [
      "2\n",
      "5\n",
      "8\n",
      "11\n",
      "14\n"
     ]
    }
   ],
   "source": [
    "for i in range(2, 15, 3):\n",
    "    print(i)"
   ]
  },
  {
   "cell_type": "markdown",
   "metadata": {},
   "source": [
    "A nested loop is a loop inside a loop. The \"inner loop\" will be executed one time for each iteration of the \"outer loop\"."
   ]
  },
  {
   "cell_type": "code",
   "execution_count": 108,
   "metadata": {},
   "outputs": [
    {
     "name": "stdout",
     "output_type": "stream",
     "text": [
      "0 0\n",
      "0 1\n",
      "1 0\n",
      "1 1\n",
      "2 0\n",
      "2 1\n"
     ]
    }
   ],
   "source": [
    "for i in range(3):\n",
    "    for j in range(2):\n",
    "        print(i,j)"
   ]
  },
  {
   "cell_type": "markdown",
   "metadata": {},
   "source": [
    "As with while loop, with the `break` statement we can stop the loop before it has looped through all the items, and with the `continue` statement we can stop the current iteration of the loop, and continue with the next. Note that the `else` block will NOT be executed if the loop is stopped by a `break` statement. Last but not least, as with if statement, for loops cannot be empty, but if you for some reason have a for loop with no content, put in the `pass` statement to avoid getting an error."
   ]
  },
  {
   "cell_type": "markdown",
   "metadata": {},
   "source": [
    "For loop is one of the most important concepts in Python, since by using it one can make many interesting and useful stuff. Let's see some of the most important oanes."
   ]
  },
  {
   "cell_type": "markdown",
   "metadata": {},
   "source": [
    "#### Iterating Through Iterables\n",
    "\n",
    "An iterator is an object that contains a countable number of values that can be iterated upon, meaning that you can traverse through all the values. Technically, in Python, an iterator is an object which implements the iterator protocol. Strings, lists, tuples, dictionaries, and sets are all iterable objects. They are iterable containers which you can get an iterator from.\n",
    "\n",
    "One can iterate through the values of iterable objects using a for loop. \n",
    "\n",
    "Starting with strings, they are iterable objects since they contain a sequence of characters. We can loop through the letters of a string using a for loop."
   ]
  },
  {
   "cell_type": "code",
   "execution_count": 109,
   "metadata": {},
   "outputs": [
    {
     "name": "stdout",
     "output_type": "stream",
     "text": [
      "b\n",
      "a\n",
      "n\n",
      "a\n",
      "n\n",
      "a\n"
     ]
    }
   ],
   "source": [
    "for letter in \"banana\":\n",
    "    print(letter)"
   ]
  },
  {
   "cell_type": "markdown",
   "metadata": {},
   "source": [
    "Similary we can go through the items of a list or a tuple."
   ]
  },
  {
   "cell_type": "code",
   "execution_count": 110,
   "metadata": {},
   "outputs": [
    {
     "name": "stdout",
     "output_type": "stream",
     "text": [
      "apple\n",
      "banana\n",
      "cherry\n"
     ]
    }
   ],
   "source": [
    "fruits = [\"apple\", \"banana\", \"cherry\"]\n",
    "for fruit in fruits:\n",
    "    print(fruit)"
   ]
  },
  {
   "cell_type": "code",
   "execution_count": 113,
   "metadata": {},
   "outputs": [
    {
     "name": "stdout",
     "output_type": "stream",
     "text": [
      "apple\n",
      "cherry\n",
      "banana\n"
     ]
    }
   ],
   "source": [
    "fruits = (\"apple\", \"banana\", \"cherry\")\n",
    "for fruit in fruits:\n",
    "    print(fruit)"
   ]
  },
  {
   "cell_type": "markdown",
   "metadata": {},
   "source": [
    "Using a nested for loop we can iterate through two lists (or tuples):"
   ]
  },
  {
   "cell_type": "code",
   "execution_count": 115,
   "metadata": {},
   "outputs": [
    {
     "name": "stdout",
     "output_type": "stream",
     "text": [
      "red apple\n",
      "red banana\n",
      "red cherry\n",
      "big apple\n",
      "big banana\n",
      "big cherry\n",
      "tasty apple\n",
      "tasty banana\n",
      "tasty cherry\n"
     ]
    }
   ],
   "source": [
    "adjectives = [\"red\", \"big\", \"tasty\"]\n",
    "fruits = [\"apple\", \"banana\", \"cherry\"]\n",
    "\n",
    "for adjective in adjectives:\n",
    "    for fruit in fruits:\n",
    "        print(adjective, fruit)"
   ]
  },
  {
   "cell_type": "markdown",
   "metadata": {},
   "source": [
    "Note in nested for loop, how each adjective was combined with each fruit. This is becase the for loop is not element-wise. In case one want to create an element-wise for loop, she has to use the `zip()` function."
   ]
  },
  {
   "cell_type": "code",
   "execution_count": 116,
   "metadata": {},
   "outputs": [
    {
     "name": "stdout",
     "output_type": "stream",
     "text": [
      "red apple\n",
      "big banana\n",
      "tasty cherry\n"
     ]
    }
   ],
   "source": [
    "adjectives = [\"red\", \"big\", \"tasty\"]\n",
    "fruits = [\"apple\", \"banana\", \"cherry\"]\n",
    "\n",
    "for adjective, fruit in zip(adjectives, fruits):\n",
    "        print(adjective, fruit)"
   ]
  },
  {
   "cell_type": "markdown",
   "metadata": {
    "tags": []
   },
   "source": [
    "Finally, we can iterate over the keys and values of a dictionary. Although there are a couple of ways to do that, the most Pythonic and up to date way to do so is the following."
   ]
  },
  {
   "cell_type": "code",
   "execution_count": 117,
   "metadata": {},
   "outputs": [
    {
     "name": "stdout",
     "output_type": "stream",
     "text": [
      "brand Ford\n",
      "model Mustang\n",
      "year 1964\n"
     ]
    }
   ],
   "source": [
    "cars = {\n",
    "  \"brand\": \"Ford\",\n",
    "  \"model\": \"Mustang\",\n",
    "  \"year\": 1964\n",
    "}\n",
    "\n",
    "for k,v in cars.items():\n",
    "    print(k,v)"
   ]
  },
  {
   "cell_type": "markdown",
   "metadata": {},
   "source": [
    "One can iterate over only keys or values by the following."
   ]
  },
  {
   "cell_type": "code",
   "execution_count": 119,
   "metadata": {},
   "outputs": [
    {
     "name": "stdout",
     "output_type": "stream",
     "text": [
      "brand\n",
      "model\n",
      "year\n",
      "41\n",
      "41\n",
      "41\n"
     ]
    }
   ],
   "source": [
    "for k in cars.keys():\n",
    "    print(k)\n",
    "    \n",
    "for kvey in cars.values():\n",
    "    print(x)"
   ]
  },
  {
   "cell_type": "markdown",
   "metadata": {},
   "source": [
    "#### List Comprehension\n",
    "\n",
    "List comprehension offers a shorter syntax when you want to create a new list based on the values of an existing list. The syntax is the following:\n",
    "\n",
    "```\n",
    "newlist = [expression for item in iterable (if condition)]\n",
    "```\n",
    "\n",
    "Every list comprehension in Python includes the following elements:\n",
    "* **expression** is the member itself, a call to a method, or any other valid expression that returns a value.\n",
    "* **item** is the object or value in the list or iterable.\n",
    "* **iterable** is a list, set, sequence, generator, or any other object that can return its elements one at a time.\n",
    "* **condition** is optional and allow list comprehensions to filter out unwanted values.\n",
    "\n",
    "The return value is a new list, leaving the old list unchanged. "
   ]
  },
  {
   "cell_type": "code",
   "execution_count": 133,
   "metadata": {},
   "outputs": [
    {
     "data": {
      "text/plain": [
       "[0, 1, 2, 3, 4, 5, 6, 7, 8, 9]"
      ]
     },
     "execution_count": 133,
     "metadata": {},
     "output_type": "execute_result"
    }
   ],
   "source": [
    "[x for x in range(10)]"
   ]
  },
  {
   "cell_type": "code",
   "execution_count": 140,
   "metadata": {},
   "outputs": [
    {
     "data": {
      "text/plain": [
       "[0.0, 1.0, 2.0, 3.0, 4.0]"
      ]
     },
     "execution_count": 140,
     "metadata": {},
     "output_type": "execute_result"
    }
   ],
   "source": [
    "[float(x) for x in range(10) if x < 5]"
   ]
  },
  {
   "cell_type": "markdown",
   "metadata": {},
   "source": [
    "You can place the condition at the end of the statement for simple filtering, but what if you want to change a member value instead of filtering it out? In this case, it’s useful to place the condition near the beginning of the expression\n",
    "\n",
    "```\n",
    "new_list = [expression_if (if condition else expression_else) for member in iterable]\n",
    "```\n",
    "\n",
    "With this formula, you can use conditional logic to select from multiple possible output options."
   ]
  },
  {
   "cell_type": "code",
   "execution_count": 139,
   "metadata": {},
   "outputs": [
    {
     "data": {
      "text/plain": [
       "[0, 1, 2, 3, 4, 0, 0, 0, 0, 0]"
      ]
     },
     "execution_count": 139,
     "metadata": {},
     "output_type": "execute_result"
    }
   ],
   "source": [
    "[x if x < 5 else 0 for x in range(10)]"
   ]
  },
  {
   "cell_type": "markdown",
   "metadata": {},
   "source": [
    "You can use items of a list to create a new list."
   ]
  },
  {
   "cell_type": "code",
   "execution_count": 144,
   "metadata": {},
   "outputs": [
    {
     "data": {
      "text/plain": [
       "['BANANA', 'CHERRY', 'KIWI', 'MANGO']"
      ]
     },
     "execution_count": 144,
     "metadata": {},
     "output_type": "execute_result"
    }
   ],
   "source": [
    "fruits = [\"apple\", \"banana\", \"cherry\", \"kiwi\", \"mango\"]\n",
    "fruits_with_no_apples_capital = [x.upper() for x in fruits if x != \"apple\"]\n",
    "fruits_with_no_apples_capital"
   ]
  },
  {
   "cell_type": "markdown",
   "metadata": {},
   "source": [
    "#### Dictionary Comprehension\n",
    "\n",
    "While the list comprehension in Python is a common tool, you can also create dictionary comprehensions. Dictionary comprehensions are similar, with the additional requirement of defining a key. You can create a dictionary comprehension by using curly braces instead of brackets."
   ]
  },
  {
   "cell_type": "code",
   "execution_count": 148,
   "metadata": {},
   "outputs": [
    {
     "data": {
      "text/plain": [
       "{0: 0, 1: 1, 2: 4, 3: 9, 4: 16, 5: 25, 6: 36, 7: 49, 8: 64, 9: 81}"
      ]
     },
     "execution_count": 148,
     "metadata": {},
     "output_type": "execute_result"
    }
   ],
   "source": [
    "squares = {i: i * i for i in range(10)}\n",
    "squares"
   ]
  },
  {
   "cell_type": "markdown",
   "metadata": {},
   "source": [
    "## Functions\n",
    "\n",
    "In computer programming, a function or subroutine (when it doesn't return a value) is a sequence of program instructions that performs a specific task, packaged as a unit. This unit can then be used in programs wherever that particular task should be performed. \n",
    "\n",
    "Functions may be defined within programs, or separately in libraries that can be used by many programs. In different programming languages, a function may be called a routine, subprogram, subroutine, method, or procedure. Technically, these terms all have different definitions, and the nomenclature varies from language to language. The generic umbrella term callable unit is sometimes used.\n",
    "\n",
    "A function is often coded so that it can be started several times and from several places during one execution of the program, including from other functions, and then branch back (return) to the next instruction after the call, once the function's task is done.\n",
    "\n",
    "In Python, the keyword `def` followed by the function name and a parenthesis is used to define a function. The statements that form the body of the function must either continue on the same line or start on the next line and be indented. To call a function, use the function name followed by parenthesis. "
   ]
  },
  {
   "cell_type": "code",
   "execution_count": 149,
   "metadata": {},
   "outputs": [
    {
     "name": "stdout",
     "output_type": "stream",
     "text": [
      "Hello World!\n"
     ]
    }
   ],
   "source": [
    "def my_function():\n",
    "    print(\"Hello World!\")\n",
    "\n",
    "my_function()"
   ]
  },
  {
   "cell_type": "markdown",
   "metadata": {},
   "source": [
    "Information can be passed into functions as arguments (or args in Python lingo). Arguments are specified after the function name, inside the parentheses. You can add as many arguments as you want, just separate them with a comma. Sometimes arguments might be called parameters. The terms parameter and argument can be used for the same thing: information that are passed into a function. From a function's perspective a parameter is the variable listed inside the parentheses in the function definition. An argument is the value that is sent to the function when it is called. \n",
    "\n",
    "By default, a function must be called with the correct number of arguments. Meaning that if your function expects 2 arguments, you have to call the function with 2 arguments, not more, and not less."
   ]
  },
  {
   "cell_type": "code",
   "execution_count": 150,
   "metadata": {},
   "outputs": [
    {
     "name": "stdout",
     "output_type": "stream",
     "text": [
      "5\n"
     ]
    }
   ],
   "source": [
    "def addition(x,y):\n",
    "    print(x+y)\n",
    "    \n",
    "addition(2,3)"
   ]
  },
  {
   "cell_type": "markdown",
   "metadata": {},
   "source": [
    "If you do not know how many arguments will be passed into your function, add a `*` before the parameter name in the function definition. This way the function will receive a tuple of arguments, and can access the items accordingly. Arbitrary arguments are often shortened to `**args` in Python documentations."
   ]
  },
  {
   "cell_type": "code",
   "execution_count": 151,
   "metadata": {},
   "outputs": [
    {
     "name": "stdout",
     "output_type": "stream",
     "text": [
      "1\n",
      "2\n",
      "3\n"
     ]
    }
   ],
   "source": [
    "def addition(*args):\n",
    "    for arg in args:\n",
    "        print(arg)\n",
    "\n",
    "addition(1,2,3)"
   ]
  },
  {
   "cell_type": "markdown",
   "metadata": {},
   "source": [
    "You can also send arguments with the key = value syntax. This way the order of the arguments does not matter."
   ]
  },
  {
   "cell_type": "code",
   "execution_count": 153,
   "metadata": {},
   "outputs": [
    {
     "name": "stdout",
     "output_type": "stream",
     "text": [
      "5\n"
     ]
    }
   ],
   "source": [
    "def addition(x,y):\n",
    "    print(x+y)\n",
    "    \n",
    "addition(x=2, y=3)"
   ]
  },
  {
   "cell_type": "markdown",
   "metadata": {},
   "source": [
    "If you do not know how many keyword arguments that will be passed into your function, add two asterisk `**` before the parameter name in the function definition. This way the function will receive a dictionary of arguments, and can access the items accordingly. Arbitrary keyword arguments are often shortened to `**kwargs` in Python documentations."
   ]
  },
  {
   "cell_type": "code",
   "execution_count": 169,
   "metadata": {},
   "outputs": [
    {
     "name": "stdout",
     "output_type": "stream",
     "text": [
      "1 2 3\n"
     ]
    }
   ],
   "source": [
    "def addition(**kwargs):\n",
    "        print(kwargs[\"x\"], kwargs[\"y\"], kwargs[\"z\"])\n",
    "\n",
    "addition(x=1,y=2,z=3)"
   ]
  },
  {
   "cell_type": "markdown",
   "metadata": {},
   "source": [
    "A function can have a default parameter value, defined during construction. If we call the function without argument, it uses the default value, otherwise it used the value set during calling. Be careful, all default parameters have to be at the end after the parameterd without default values."
   ]
  },
  {
   "cell_type": "code",
   "execution_count": 171,
   "metadata": {},
   "outputs": [
    {
     "name": "stdout",
     "output_type": "stream",
     "text": [
      "5\n",
      "7\n"
     ]
    }
   ],
   "source": [
    "def addition(x,y=3):\n",
    "    print(x+y)\n",
    "    \n",
    "addition(x=2)\n",
    "addition(x=2, y=5)"
   ]
  },
  {
   "cell_type": "markdown",
   "metadata": {},
   "source": [
    "To let a function return a value, use the `return` statement:"
   ]
  },
  {
   "cell_type": "code",
   "execution_count": 173,
   "metadata": {},
   "outputs": [
    {
     "data": {
      "text/plain": [
       "7"
      ]
     },
     "execution_count": 173,
     "metadata": {},
     "output_type": "execute_result"
    }
   ],
   "source": [
    "def addition(x,y):\n",
    "    return (x+y)\n",
    "    \n",
    "result = addition(x=2, y=5)\n",
    "result"
   ]
  },
  {
   "cell_type": "markdown",
   "metadata": {},
   "source": [
    "Function definitions cannot be empty, but if you for some reason have a function definition with no content, put in the `pass` statement to avoid getting an error."
   ]
  },
  {
   "cell_type": "code",
   "execution_count": 174,
   "metadata": {},
   "outputs": [],
   "source": [
    "def func():\n",
    "    pass\n",
    "\n",
    "func()"
   ]
  },
  {
   "cell_type": "markdown",
   "metadata": {},
   "source": [
    "Python also accepts function recursion, which means a defined function can call itself. Recursion is a common mathematical and programming concept. It means that a function calls itself. This has the benefit of meaning that you can loop through data to reach a result.\n",
    "\n",
    "The developer should be very careful with recursion as it can be quite easy to slip into writing a function which never terminates, or one that uses excess amounts of memory or processor power. However, when written correctly recursion can be a very efficient and mathematically-elegant approach to programming.\n",
    "\n",
    "To a new developer it can take some time to work out how exactly recursion works, best way to find out is by testing and modifying it."
   ]
  },
  {
   "cell_type": "code",
   "execution_count": 186,
   "metadata": {},
   "outputs": [
    {
     "name": "stdout",
     "output_type": "stream",
     "text": [
      "6\n"
     ]
    }
   ],
   "source": [
    "def increment(x):\n",
    "    if x<=5:\n",
    "        x+=1\n",
    "        increment(x)\n",
    "    else:\n",
    "        print(x)\n",
    "\n",
    "printf(1)"
   ]
  },
  {
   "cell_type": "markdown",
   "metadata": {},
   "source": [
    "### Lambda Function\n",
    "\n",
    "A lambda function is a small anonymous function that can take any number of arguments, but can only have one expression. The expression is executed and the result is returned. The general form of a lambda function is:\n",
    "\n",
    "```\n",
    "lambda arguments : expression\n",
    "```"
   ]
  },
  {
   "cell_type": "code",
   "execution_count": 193,
   "metadata": {},
   "outputs": [
    {
     "data": {
      "text/plain": [
       "10"
      ]
     },
     "execution_count": 193,
     "metadata": {},
     "output_type": "execute_result"
    }
   ],
   "source": [
    "line = lambda x, a, b : a*x + b\n",
    "line(x=10, a=1, b=0)"
   ]
  },
  {
   "cell_type": "markdown",
   "metadata": {
    "tags": []
   },
   "source": [
    "In general lambda functions are used when an anonymous function is required for a short period of time."
   ]
  },
  {
   "cell_type": "markdown",
   "metadata": {},
   "source": [
    "### Scope\n",
    "\n",
    "A variable is only available from inside the region it is created. This is called scope. In other words the scope of a variable refers to the context in which that variable is visible/accessible to the Python interpreter.\n",
    "\n",
    "Python has 4 different scope types: Local, Enclosing, Global, and Built-in (LEGB).\n",
    "\n",
    "* **Local Scope**: A variable created inside a function belongs to the local scope of that function, and can only be used inside that function. A local scope variable is not available outside the function, but it is available for any function inside the function.\n",
    "\n",
    "* **Enclosing scope** A variable created inside a nested function. Simply put, these variables are neither present in the local scope nor in the global scope.\n",
    "\n",
    "* **Global Scope**: A variable created in the main body of the Python code is a global variable and belongs to the global scope. Global variables are available from within any scope, global and local.\n",
    "\n",
    "* **Built-in scope**: A variable which is built-in in Python and cover all the reserved keywords (e.g: `print`, `def`, etc). Built-in variables are available anywhere, without the need to define them.\n",
    "\n",
    "When a variable is called, Python searches first in local scope, then in enclosing scope, then in global scope and finally in the built-in scope in order to find it.\n",
    "\n",
    "<center><img src=\"../img/scope.png\" alt=\"drawing\" width=\"300\"/></center>\n",
    "\n",
    "Be careful. Python won't complain if you try to change a built-in variable. The original built-in keyword will be lost."
   ]
  },
  {
   "cell_type": "code",
   "execution_count": 222,
   "metadata": {},
   "outputs": [
    {
     "name": "stdout",
     "output_type": "stream",
     "text": [
      "global scope x\n",
      "global scope x\n",
      "local scope y\n",
      "local scope y\n",
      "local scope z\n",
      "global scope x\n"
     ]
    }
   ],
   "source": [
    "# global scope variable available everywhere\n",
    "x = \"global scope x\"\n",
    "\n",
    "# searches for x in local scope (global) ->  finds it\n",
    "print(x)\n",
    "\n",
    "def outer():\n",
    "    # searches for x in local scope (outer()) ->  cannot find it\n",
    "    # no enclosing scope to search\n",
    "    # searches for x in global scope -> finds it\n",
    "    print(x)\n",
    "\n",
    "    y = \"local scope y\"\n",
    "    # searches for y in local scope (outer()) ->  finds it\n",
    "    print(y)\n",
    "    \n",
    "    def inner():\n",
    "        # searches for x in local scope (inner()) ->  cannot find it\n",
    "        # searches for x in enclosing scope (outer()) -> cannot find it\n",
    "        # searches for x in global scope -> finds it\n",
    "        print(x)\n",
    "        \n",
    "        # searches for y in local scope (inner()) ->  cannot find it\n",
    "        # searches for y in enclosing scope (outer()) -> finds it\n",
    "        print(y)\n",
    "        \n",
    "        z = 'local scope z'\n",
    "        # searches for z in local scope ->  finds it\n",
    "        print(z)\n",
    "    \n",
    "    return inner()\n",
    "\n",
    "outer()"
   ]
  },
  {
   "cell_type": "markdown",
   "metadata": {},
   "source": [
    "Important. If you operate with the same variable name in different scopes, Python will treat them as separate variables. In other words, a function can only read and not (for example) overwrite a global variable, unless we make it clear that the we refer to the global variable by using the keyword `global`."
   ]
  },
  {
   "cell_type": "code",
   "execution_count": 225,
   "metadata": {},
   "outputs": [
    {
     "name": "stdout",
     "output_type": "stream",
     "text": [
      "global scope x\n",
      "global scope y\n",
      "local scope x\n",
      "global scope y\n"
     ]
    }
   ],
   "source": [
    "# global scope variable available everywhere\n",
    "x = \"global scope x\"\n",
    "y = \"global scope y\"\n",
    "\n",
    "def outer():\n",
    "    global x\n",
    "    \n",
    "    # this will change global x\n",
    "    x = \"local scope x\"\n",
    "    \n",
    "    # this will NOT change global y\n",
    "    y = \"local scope y\"\n",
    "\n",
    "print(x)\n",
    "print(y)\n",
    "outer()\n",
    "print(x)\n",
    "print(y)"
   ]
  },
  {
   "cell_type": "markdown",
   "metadata": {},
   "source": [
    "### Closure\n",
    "\n",
    "In programming a closure is a record storing a function together with an environment. The environment is a mapping associating each free variable of the function (variables that are used locally, but defined in an enclosing scope) with the value or reference to which the name was bound when the closure was created. Unlike a plain function, a closure allows the function to access those captured variables through the closure's copies of their values or references, even when the function is invoked outside their scope.\n",
    " \n",
    "In simple terms a closure is an inner function that remembers and has access to variables in the enclosing scope in which it was created even after the outer function has finished executing and the variables are not present in memory."
   ]
  },
  {
   "cell_type": "code",
   "execution_count": 228,
   "metadata": {},
   "outputs": [
    {
     "name": "stdout",
     "output_type": "stream",
     "text": [
      "Hello World\n",
      "Hello World\n",
      "Hello World\n"
     ]
    }
   ],
   "source": [
    "def outer(msg):\n",
    "    message = msg\n",
    "    \n",
    "    def inner():\n",
    "        print(message)\n",
    "        \n",
    "    return inner\n",
    "\n",
    "printer = outer(msg='Hello World')\n",
    "\n",
    "# closure makes printer to remember the message 'Hello World' from the enclosing scope of outer() \n",
    "# even after outer() has stopped being executed and 'Hello World' is not in any scope any more.\n",
    "printer()\n",
    "printer()\n",
    "printer()     "
   ]
  },
  {
   "cell_type": "markdown",
   "metadata": {},
   "source": [
    "## Object Oriented Programing (OOP)\n",
    "\n",
    "### Definitions\n",
    "Object Oriented Programming (OOP) is a programming paradigm (way to classify programming languages based on their features) based on the concept of \"objects\", which can contain data and code: data in the form of fields (often known as attributes or properties), and code, in the form of procedures (often known as methods).\n",
    "\n",
    "A common feature of objects is that procedures (or methods) are attached to them and can access and modify the object's data fields. In this brand of OOP, there is usually a special name such as `this` or `self` used to refer to the current object. In OOP, computer programs are designed by making them out of objects that interact with one another. OOP languages are diverse, but the most popular ones are class-based, meaning that objects are instances of classes, which also determine their types.\n",
    "\n",
    "Python is a  multi-paradigm programming language and it supports object-oriented programming to a greater or lesser degree, typically in combination with imperative, procedural programming.\n",
    "\n",
    "Languages that support object-oriented programming (OOP) typically use inheritance for code reuse and extensibility in the form of either classes or prototypes. Those that use classes support two main concepts:\n",
    "\n",
    "* **Classes**: The definitions for the data format and available procedures for a given type or class of object; may also contain data and procedures (known as class methods) themselves, i.e. classes contain the data members and member functions\n",
    "* **Objects**: Instances of classes (in a computer system, any time a new context is created based on some model, it is said that the model has been instantiated). Each object is said to be an instance of a particular class (for example, an object with its name field set to \"Mary\" might be an instance of class Employee). \n",
    "\n",
    "Functions in object-oriented programming are known as methods. Variables are also known as attributes. This leads to the following terms:\n",
    "\n",
    "* **Class Variables**: data that belongs to the class as a whole; there is only one copy of each one.\n",
    "* **Instance Variables** or **Attributes**: data that belongs to individual objects; every object has its own copy of each one.\n",
    "* **Class Methods**: belong to the class as a whole and have access to only class variables and inputs from the procedure call\n",
    "* **Instance Methods**: belong to individual objects, and have access to instance variables for the specific object they are called on, inputs, and class variables\n",
    "\n",
    "To summarize, objects are accessed somewhat like variables with complex internal structure, and in many languages are effectively pointers, serving as actual references to a single instance of said object in memory within a heap or stack. They provide a layer of abstraction which can be used to separate internal from external code. External code can use an object by calling a specific instance method with a certain set of input parameters, read an instance variable, or write to an instance variable. Objects are created by calling a special type of method in the class known as a constructor. A program may create many instances of the same class as it runs, which operate independently. This is an easy way for the same procedures to be used on different sets of data."
   ]
  },
  {
   "cell_type": "markdown",
   "metadata": {
    "tags": []
   },
   "source": [
    "### Creating Classes\n",
    "\n",
    "Python is an object oriented programming language. Almost everything in it is an object, with its attributes and methods. \n",
    "\n",
    "A Class is like an object constructor, or a \"blueprint\" for creating objects. To create a class, use the keyword `class`. Class definitions cannot be empty, but if you for some reason have a class definition with no content, put in the `pass` statement to avoid getting an error.\n",
    "\n",
    "The `self` parameter is a reference to the current instance of the class, and is used to access variables that belong to the class. It does not have to be named `self`, you can call it whatever you like, but it has to be the first parameter of any function in the class. It is a best practice to stick with `self` though.\n",
    "\n",
    "All classes have a function called `__init__()`, which is always executed when the class is being initiated.\n",
    "Use the `__init__()` function to assign values to object properties, or other operations that are necessary to do when the object is being created. The` __init__()` function is called automatically every time the class is being used to create a new object.\n",
    "\n",
    "The `__str__()` function controls what should be returned when the class object is represented as a string. If the `__str__()` function is not set, the string representation of the object is returned:\n",
    "\n",
    "Objects can also contain methods. Methods in objects are functions that belong to the object."
   ]
  },
  {
   "cell_type": "code",
   "execution_count": null,
   "metadata": {},
   "outputs": [],
   "source": [
    "# creates the class \"Employee\" \n",
    "class Employee:   \n",
    "\n",
    "    # defines two class variables: emp_counter and months \n",
    "    emp_counter = 0                                                                  \n",
    "    months = 12                                                                      \n",
    "    \n",
    "    # dunder method __init__: defines the object of the class (self is the name of the instance) \n",
    "    def __init__(self, name, salary): \n",
    "        \n",
    "        # two attributes: name and salary \n",
    "        self.name = name                                                              \n",
    "        self.salary = salary                                                          \n",
    "          \n",
    "        # measure employees: we need `Employee.emp_counter`, not just `emp_counter`.  \n",
    "        Employee.emp_counter += 1                                                    \n",
    "    \n",
    "    # dunder method __repr__: What should be printed out when we call an instance \n",
    "    def __repr__(self): \n",
    "        return ('Employee {} - Name: {}, Salary: {}'.format(Employee.emp_counter, self.name, self.salary)) \n",
    "    \n",
    "    # dunder method __add__: what shoud a + sign do between two instances (here just add the salaries) \n",
    "    def __add__(self, other): \n",
    "        return (self.salary + other.salary) \n",
    "    \n",
    "    # a regular method: prints the name and the salary of an employee (same as __repr__ but now a regular method)  \n",
    "    def displayEmployee(self):                                                        \n",
    "        print ('Name : ', self.name,  ', Salary: ', self.salary)       \n",
    "    \n",
    "    # a regular method: calculates and prints the year salary of an employee. uses also a calss variable \n",
    "    def yearSalary(self):                                                             \n",
    "        print ('Year salary of ', self.name, ' is ', (self.salary * self.months))     \n",
    "   \n",
    "    # a class method: changes the months variable to whatever we set it \n",
    "    def setMonths(cls, months_var):                                                     \n",
    "        cls.months = months_var \n",
    "   \n",
    "    # a static method: Just a function inside the class. We could have created it outside the class, but it is logically connected with the class \n",
    "    @staticmethod \n",
    "    def workingDay(day):                                                            \n",
    "        print (day) "
   ]
  },
  {
   "cell_type": "markdown",
   "metadata": {},
   "source": [
    "### Creating Instances\n",
    "\n",
    "Once a class has been defined, we can start creating instances (objects) of the class."
   ]
  },
  {
   "cell_type": "code",
   "execution_count": null,
   "metadata": {},
   "outputs": [],
   "source": [
    "# an instance\n",
    "emp_1 = Employee('Tasos Bouzikas', 1000)\n",
    "print(emp_1)\n",
    "\n",
    "# another instance\n",
    "emp_2 = Employee('Georgia Sarolidou', 2000)\n",
    "print(emp_2)\n",
    "\n",
    "# use __add__ method to get the sum of the salary \n",
    "print(emp_1 + emp_2)\n",
    "\n",
    "# checks if emp_1 is an instance of the class Employee. Returns either True or False\n",
    "isinstance(emp_1, Employee)\n",
    "\n",
    "# apply the method displayEmployee to emp_1 and emp_2\n",
    "emp_1.displayEmployee()\n",
    "emp_2.displayEmployee()\n",
    "\n",
    "# another way to Apply the method displayEmployee to emp_1 and emp_2\n",
    "Employee.displayEmployee(emp_1)\n",
    "Employee.displayEmployee(emp_2)\n",
    "\n",
    "# apply the method yearSalary to emp_1. By default emp_1.months = 12\n",
    "emp_1.yearSalary()\n",
    "\n",
    "# we specify different months for employee 2\n",
    "emp_2.months = 11\n",
    "\n",
    "# apply the method yearSalary to emp_2. Now emp_2.months = 11\n",
    "emp_2.yearSalary()\n",
    "\n",
    "# we change the 'default' months from 12 that was defined inside the class to 11\n",
    "Employee.months = 11\n",
    "\n",
    "# we did the same thing but through a class method, i.e a function inside the class that changes the class vaariable months\n",
    "Employee.setMonths(11)\n",
    "\n",
    "# we call the function workingDay inside Employee class\n",
    "Employee.workingDay(Monday)                                                      "
   ]
  },
  {
   "cell_type": "markdown",
   "metadata": {},
   "source": [
    "### Inheritance\n",
    "Inheritance allows us to define a class that inherits all the methods and properties from another class. Parent class is the class being inherited from, also called base class. Child class is the class that inherits from another class, also called derived class.\n",
    "\n",
    "Any class can be a parent class, so the syntax is the same as creating any other class.\n",
    "\n",
    "To create a child class that inherits the functionality from another class, send the parent class as a parameter when creating the child class."
   ]
  },
  {
   "cell_type": "code",
   "execution_count": null,
   "metadata": {},
   "outputs": [],
   "source": [
    "# the new class Developer has ALL the functionality of Employee Class\n",
    "class Developer(Employee):                                                          \n",
    "\n",
    "    months = 6\n",
    "\n",
    "    # We want to add an extra attribute 'Bonus', on top of name and salary that are already there due to inheritance\n",
    "    def __init__(self, name, salary, bonus):        \n",
    "        \n",
    "        # Inherits all the attributes from Employee (instead of copying them)\n",
    "        super().--__init__(first,last,pay)          \n",
    "        \n",
    "        # In the usual way we add the new extra attribute\n",
    "        self.bonus = bonus                          \n",
    "\n",
    "# Checks if Developer is a subclass of the class Employee. Returns either True or False\n",
    "issubclass(Developer,Employee)                      "
   ]
  },
  {
   "cell_type": "markdown",
   "metadata": {},
   "source": [
    "## Try Except\n",
    "\n",
    "TBD"
   ]
  },
  {
   "cell_type": "markdown",
   "metadata": {},
   "source": [
    "## File Handling\n",
    "\n",
    "TBD"
   ]
  }
 ],
 "metadata": {
  "kernelspec": {
   "display_name": "Python 3 (ipykernel)",
   "language": "python",
   "name": "python3"
  },
  "language_info": {
   "codemirror_mode": {
    "name": "ipython",
    "version": 3
   },
   "file_extension": ".py",
   "mimetype": "text/x-python",
   "name": "python",
   "nbconvert_exporter": "python",
   "pygments_lexer": "ipython3",
   "version": "3.10.4"
  },
  "toc-autonumbering": true
 },
 "nbformat": 4,
 "nbformat_minor": 4
}
