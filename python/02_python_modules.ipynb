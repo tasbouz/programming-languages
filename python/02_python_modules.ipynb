{
 "cells": [
  {
   "cell_type": "markdown",
   "metadata": {},
   "source": [
    "<center><img src=\"../img/python.png\" alt=\"drawing\" width=\"150\"/></center>"
   ]
  },
  {
   "cell_type": "markdown",
   "metadata": {},
   "source": [
    "# Python Modules"
   ]
  },
  {
   "cell_type": "markdown",
   "metadata": {
    "tags": []
   },
   "source": [
    "## Introduction\n",
    "\n",
    "In programming terminology, function is a separate, complete and reusable software component. Long and complex logic in a program is broken into smaller, independent and reusable blocks of instructions usually called a module, a subroutine or function. It is designed to perform a specific task that is a part of entire process. This approach towards software development is called modular programming. Such a program has a main routine through which smaller independent modules (functions) are called upon. When called, a function performs a specified task and returns the control back to the calling routine, optionally along with result of its process. Python interpreter has a number of built-in functions. They are always available for use in every interpreter session. For a full list of built-in python function check [here](https://www.w3schools.com/python/python_ref_functions.asp).\n",
    "\n",
    "In addition to built-in functions, a large number of pre-defined functions are also available as a part of libraries bundled with Python distributions. However they are not available for use automatically. These functions are defined in modules. A module is a file containing definition of functions, classes, variables, constants or any other Python object. Standard distribution of Python contains a large number of modules, generally known as built-in modules. Each built-in module contains resources for certain specific functionalities. Most of the times, built-in modules are written in C and integrated with Python interpreter.\n",
    "\n",
    "On top of built-in modules there are also external modules. External modules in Python, are modules developed by other developers and organized into a proper library for us to use. These packages are important since they equip us with extra functionality."
   ]
  },
  {
   "cell_type": "markdown",
   "metadata": {},
   "source": [
    "## Modules\n",
    "\n",
    "A module can be considered to be the same as a code library. In other words, a file containing a set of functions you want to include in your application. To create a module just save the code you want in a file with the file extension `.py`.\n",
    "\n",
    "For example a module could be a file called `module_name.py` containing a function:\n",
    "\n",
    "```\n",
    "def function_name():\n",
    "  print(\"Hello World!\")\n",
    "```\n",
    "\n",
    "Modules can be loaded by using the `import` statement.\n",
    "\n",
    "```\n",
    "import module_name\n",
    "```\n",
    "\n",
    "More often than not, is very useful to create an alias when you import a module, by using the `as` keyword.\n",
    "\n",
    "```\n",
    "import module_name as mn\n",
    "```\n",
    "\n",
    "In order to use a function from a module, we use the following syntax.\n",
    "\n",
    "```\n",
    "module_name.function_name\n",
    "```\n",
    "\n",
    "Or if an alias is defined:\n",
    "\n",
    "```\n",
    "mn.function_name\n",
    "```\n",
    "\n",
    "Modules can contain functions, as already described, but also variables of all types (arrays, dictionaries, objects etc). To access the variables we use the same syntax.\n",
    "\n",
    "```\n",
    "module_name.variable_name\n",
    "```\n",
    "\n",
    "Or if an alias is defined:\n",
    "\n",
    "```\n",
    "mn.variable_name\n",
    "```\n",
    "\n",
    "In some cases we want to import only specific parts from a module and not the whole module. We do that by using the `from` keyword.\n",
    "\n",
    "```\n",
    "from module_name import function_name\n",
    "```\n",
    "\n",
    "Then we can use the function `function_name` directly as we would use it if it was defined by us (i.e without the need write `module_name.function_name`)\n",
    "\n",
    "As we already mentioned in the introduction there are two different kind of modules: built-in and extenral.\n",
    "\n",
    "* **Built-In Modules**: Built-in modules are written in C and integrated with the Python shell. Each built-in module contains resources for certain system-specific functionalities such as OS management, disk IO, etc. The standard library also contains many Python scripts (with the . py extension) containing useful utilities.\n",
    "\n",
    "* **External Modules**: External modules are important since they allow developers to break down large programs into small manageable files. Furthermore, modules also allow developers to reuse code. Once a Python file has been imported as a module into another file it gives us access to its classes and functions.\n",
    "\n",
    "There are several built-in modules in Python, which you can import whenever you like. Once a module is imported there is a built-in function to list all the function names (or variable names) withing the module called `dir()`.\n",
    "\n",
    "```\n",
    "dir(module_name)\n",
    "```\n",
    "\n",
    "External modules need to be installed before imported. This can be achieved through `pip`."
   ]
  },
  {
   "cell_type": "markdown",
   "metadata": {},
   "source": [
    "### PIP Package Manager\n",
    "\n",
    "Pip (recursive acronym for \"Pip Installs Packages\") is the de facto, recommended, included by default, package-management system for Python packages (or modules if you like), used to install and manage external packages. It connects to an online repository of public packages, called the Python Package Index. Pip can also be configured to connect to other package repositories (local or remote), provided that they comply to Python Enhancement Proposal 503.\n",
    "\n",
    "Downloading a package is very easy through the `pip install` command.\n",
    "\n",
    "```\n",
    "pip install package_name\n",
    "```\n",
    "\n",
    "Once the package is installed, it is ready to use as if it was a built-in package. \n",
    "\n",
    "*(For more details on how to use a module check \"Module\" section from [02_python_built_in_modules notebook](02_python_built_in_modules.ipynb))*\n",
    "\n",
    "To remove a package use the `pip uninstall` command:\n",
    "\n",
    "```\n",
    "pip uninstall package_name\n",
    "```\n",
    "\n",
    "Use the list command to `pip list` all the packages installed on your system:\n",
    "\n",
    "```\n",
    "pip list\n",
    "```"
   ]
  },
  {
   "cell_type": "markdown",
   "metadata": {},
   "source": [
    "## Built-In Python Modules\n",
    "\n",
    "There are many different built-in modules in Python, each one with each own functionalities. In this notebook I will go through some of them, which I use almost every day."
   ]
  },
  {
   "cell_type": "markdown",
   "metadata": {
    "tags": []
   },
   "source": [
    "### Datetime\n",
    "\n",
    "Datetime module supplies classes for manipulating dates and times. While date and time arithmetic is supported, the focus of the implementation is on efficient attribute extraction for output formatting and manipulation.\n",
    "\n",
    "Date and time objects may be categorized as “aware” or “naive” depending on whether or not they include timezone information:\n",
    "\n",
    "* An aware object represents a specific moment in time that is not open to interpretation and as a subsqequence it can locate itself relative to other aware objects. \n",
    "\n",
    "* A naive object does not contain enough information to unambiguously locate itself relative to other date/time objects. \n",
    "\n",
    "Whether a naive object represents Coordinated Universal Time (UTC), local time, or time in some other timezone is purely up to the program, just like it is up to the program whether a particular number represents metres, miles, or mass. Naive objects are easy to understand and to work with, at the cost of ignoring some aspects of reality. I only care and focus on naive objects."
   ]
  },
  {
   "cell_type": "code",
   "execution_count": 26,
   "metadata": {},
   "outputs": [],
   "source": [
    "from datetime import datetime as dt\n",
    "from dateutil.relativedelta import relativedelta\n",
    "import pandas as pd"
   ]
  },
  {
   "cell_type": "code",
   "execution_count": 15,
   "metadata": {},
   "outputs": [
    {
     "data": {
      "text/plain": [
       "datetime.datetime(2022, 12, 25, 12, 5, 32, 100000)"
      ]
     },
     "execution_count": 15,
     "metadata": {},
     "output_type": "execute_result"
    }
   ],
   "source": [
    "# datetime (YYYYMMDDHHMMSSmm)\n",
    "d = dt(2022, 12, 25, 12, 5, 32, 100000)\n",
    "d"
   ]
  },
  {
   "cell_type": "code",
   "execution_count": 14,
   "metadata": {},
   "outputs": [
    {
     "data": {
      "text/plain": [
       "(2022, 12, 25, datetime.time(12, 5, 32, 100000))"
      ]
     },
     "execution_count": 14,
     "metadata": {},
     "output_type": "execute_result"
    }
   ],
   "source": [
    "# datetime basic info attributes/methods\n",
    "d.year, d.month, d.day, d.time()"
   ]
  },
  {
   "cell_type": "code",
   "execution_count": 13,
   "metadata": {},
   "outputs": [
    {
     "data": {
      "text/plain": [
       "6"
      ]
     },
     "execution_count": 13,
     "metadata": {},
     "output_type": "execute_result"
    }
   ],
   "source": [
    "# weekday (Monday=0, Sunday=6)\n",
    "d.weekday()"
   ]
  },
  {
   "cell_type": "code",
   "execution_count": 12,
   "metadata": {},
   "outputs": [
    {
     "data": {
      "text/plain": [
       "7"
      ]
     },
     "execution_count": 12,
     "metadata": {},
     "output_type": "execute_result"
    }
   ],
   "source": [
    "# weekday (Monday=1, Sunday=7)\n",
    "d.isoweekday()"
   ]
  },
  {
   "cell_type": "code",
   "execution_count": 11,
   "metadata": {},
   "outputs": [
    {
     "data": {
      "text/plain": [
       "'Sunday'"
      ]
     },
     "execution_count": 11,
     "metadata": {},
     "output_type": "execute_result"
    }
   ],
   "source": [
    "# weekday (Monday=Monday, Sunday=Sunday)\n",
    "d.strftime(\"%A\")"
   ]
  },
  {
   "cell_type": "code",
   "execution_count": 16,
   "metadata": {},
   "outputs": [
    {
     "data": {
      "text/plain": [
       "datetime.date(2022, 12, 25)"
      ]
     },
     "execution_count": 16,
     "metadata": {},
     "output_type": "execute_result"
    }
   ],
   "source": [
    "# datetime to date (YYYYMMDD)\n",
    "d.date()"
   ]
  },
  {
   "cell_type": "code",
   "execution_count": 22,
   "metadata": {},
   "outputs": [
    {
     "data": {
      "text/plain": [
       "DatetimeIndex(['2022-01-31', '2022-02-28', '2022-03-31', '2022-04-30',\n",
       "               '2022-05-31', '2022-06-30', '2022-07-31', '2022-08-31',\n",
       "               '2022-09-30', '2022-10-31', '2022-11-30', '2022-12-31'],\n",
       "              dtype='datetime64[ns]', freq='M')"
      ]
     },
     "execution_count": 22,
     "metadata": {},
     "output_type": "execute_result"
    }
   ],
   "source": [
    "# range of dates (start_date, end_date can be either strings or dates)\n",
    "start_date=dt(2022, 1, 1)\n",
    "end_date=dt(2023, 1, 1)\n",
    "pd.date_range(start_date, end_date, freq='m')"
   ]
  },
  {
   "cell_type": "code",
   "execution_count": 23,
   "metadata": {},
   "outputs": [
    {
     "data": {
      "text/plain": [
       "datetime.datetime(2022, 10, 3, 11, 19, 21, 225221)"
      ]
     },
     "execution_count": 23,
     "metadata": {},
     "output_type": "execute_result"
    }
   ],
   "source": [
    "# today\n",
    "dt.today()"
   ]
  },
  {
   "cell_type": "code",
   "execution_count": 33,
   "metadata": {},
   "outputs": [
    {
     "data": {
      "text/plain": [
       "(datetime.date(2022, 10, 2), datetime.date(2022, 10, 4))"
      ]
     },
     "execution_count": 33,
     "metadata": {},
     "output_type": "execute_result"
    }
   ],
   "source": [
    "# add or subtract years, months, weeks, days, hours, minutes, seconds, microseconds from datetime (PLURAR ADDS OR SUBTRACTS)\n",
    "yesterday = dt.today() - relativedelta(days=1)\n",
    "tommorow = dt.today() + relativedelta(days=1)\n",
    "yesterday.date(), tommorow.date()"
   ]
  },
  {
   "cell_type": "code",
   "execution_count": 34,
   "metadata": {},
   "outputs": [
    {
     "data": {
      "text/plain": [
       "(datetime.date(2022, 10, 1), datetime.date(2022, 10, 31))"
      ]
     },
     "execution_count": 34,
     "metadata": {},
     "output_type": "execute_result"
    }
   ],
   "source": [
    "# replace year, month, week, day, hour, minute, second, microsecond from datetime (SINGULAR REPLACES)\n",
    "first_day_of_month = dt.today() + relativedelta(day=1)\n",
    "last_day_of_month = dt.today() + relativedelta(day=31)\n",
    "first_day_of_month.date(), last_day_of_month.date()"
   ]
  },
  {
   "cell_type": "code",
   "execution_count": 35,
   "metadata": {},
   "outputs": [
    {
     "data": {
      "text/plain": [
       "'2022-10-03'"
      ]
     },
     "execution_count": 35,
     "metadata": {},
     "output_type": "execute_result"
    }
   ],
   "source": [
    "# convert datetime to string (have to match date's format to string)\n",
    "dt.strftime(dt.today(), \"%Y-%m-%d\")"
   ]
  },
  {
   "cell_type": "code",
   "execution_count": 37,
   "metadata": {},
   "outputs": [
    {
     "data": {
      "text/plain": [
       "datetime.datetime(2022, 2, 25, 0, 0)"
      ]
     },
     "execution_count": 37,
     "metadata": {},
     "output_type": "execute_result"
    }
   ],
   "source": [
    "# convert string to datetime (have to match string's format to date)\n",
    "dt.strptime(\"2022-02-25\", \"%Y-%m-%d\")"
   ]
  },
  {
   "cell_type": "markdown",
   "metadata": {},
   "source": [
    "Here are some of the most useful date parse formats.\n",
    "\n",
    "<center><img src=\"../img/formats.png\" alt=\"drawing\" width=\"600\"/></center>"
   ]
  },
  {
   "cell_type": "markdown",
   "metadata": {},
   "source": [
    "### JSON\n",
    "\n",
    "JSON (JavaScript Object Notation) is an open standard file format and data interchange format that uses human-readable text to store and transmit data objects consisting of attribute–value pairs and arrays (or other serializable values). \n",
    "\n",
    "The following example shows a possible JSON representation describing a person.\n",
    "\n",
    "```\n",
    "{\n",
    "  \"firstName\": \"John\",\n",
    "  \"lastName\": \"Smith\",\n",
    "  \"isAlive\": true,\n",
    "  \"age\": 27,\n",
    "  \"address\": {\n",
    "    \"streetAddress\": \"21 2nd Street\",\n",
    "    \"city\": \"New York\",\n",
    "    \"state\": \"NY\",\n",
    "    \"postalCode\": \"10021-3100\"\n",
    "  },\n",
    "  \"phoneNumbers\": [\n",
    "    {\n",
    "      \"type\": \"home\",\n",
    "      \"number\": \"212 555-1234\"\n",
    "    },\n",
    "    {\n",
    "      \"type\": \"office\",\n",
    "      \"number\": \"646 555-4567\"\n",
    "    }\n",
    "  ],\n",
    "  \"children\": [\n",
    "      \"Catherine\",\n",
    "      \"Thomas\",\n",
    "      \"Trevor\"\n",
    "  ],\n",
    "  \"spouse\": null\n",
    "}\n",
    "```\n",
    "\n",
    "JSON is a common data format with diverse uses in electronic data interchange, including that of web applications with servers. JSON is a language-independent data format. It was derived from JavaScript, but many modern programming languages include code to generate and parse JSON-format data. JSON filenames use the extension `.json`.\n",
    "\n",
    "Python has a built-in package called json, which can be used to work with JSON data."
   ]
  },
  {
   "cell_type": "code",
   "execution_count": 44,
   "metadata": {},
   "outputs": [],
   "source": [
    "import json"
   ]
  },
  {
   "cell_type": "markdown",
   "metadata": {},
   "source": [
    "If you have a JSON string, you can parse it by using the `json.loads()` method. The result will be a Python dictionary."
   ]
  },
  {
   "cell_type": "code",
   "execution_count": 45,
   "metadata": {},
   "outputs": [
    {
     "data": {
      "text/plain": [
       "{'name': 'John', 'age': 30, 'city': 'New York'}"
      ]
     },
     "execution_count": 45,
     "metadata": {},
     "output_type": "execute_result"
    }
   ],
   "source": [
    "# string to json (the result is a Python dictionary)\n",
    "x =  '{ \"name\":\"John\", \"age\":30, \"city\":\"New York\"}'\n",
    "json.loads(x)"
   ]
  },
  {
   "cell_type": "markdown",
   "metadata": {},
   "source": [
    "If you have one of the following Python objects (dict, list, tuple, string, int, float, True, False, None), you can convert it into a JSON string by using the `json.dumps(`) method."
   ]
  },
  {
   "cell_type": "code",
   "execution_count": 48,
   "metadata": {},
   "outputs": [
    {
     "data": {
      "text/plain": [
       "'{\"name\": \"John\", \"age\": 30, \"city\": \"New York\"}'"
      ]
     },
     "execution_count": 48,
     "metadata": {},
     "output_type": "execute_result"
    }
   ],
   "source": [
    "# dictionary to json string (the result is a JSON string)\n",
    "x = {\n",
    "  \"name\": \"John\",\n",
    "  \"age\": 30,\n",
    "  \"city\": \"New York\"\n",
    "}\n",
    "\n",
    "# convert into JSON:\n",
    "json.dumps(x)"
   ]
  },
  {
   "cell_type": "markdown",
   "metadata": {},
   "source": [
    "When you convert from Python to JSON, Python objects are converted into the JSON (JavaScript) equivalent.\n",
    "\n",
    "* `dict` -> Object\n",
    "* `list` -> Array\n",
    "* `tuple` -> Array\n",
    "* `str` -> String\n",
    "* `int` -> Number\n",
    "* `float` -> Number\n",
    "* `True` -> true\n",
    "* `False` -> false\n",
    "* `None` -> null"
   ]
  },
  {
   "cell_type": "markdown",
   "metadata": {},
   "source": [
    "### Logging\n",
    "\n",
    "Logging module defines functions and classes which implement a flexible event logging system for applications and libraries. The key benefit of having the logging API provided by a standard library module is that all Python modules can participate in logging, so your application log can include your own messages integrated with messages from third-party modules.\n",
    "\n",
    "The basic classes defined by the module, together with their functions, are listed below:\n",
    "* **Loggers** expose the interface that application code directly uses.\n",
    "* **Handlers** send the log records (created by loggers) to the appropriate destination.\n",
    "* **Filters** provide a finer grained facility for determining which log records to output.\n",
    "* **Formatters** specify the layout of log records in the final output.\n",
    "\n",
    "Logging has certain levels, depending on the severity of the log:\n",
    "* **DEBUG**: Detailed information, typically of interest only when diagnosing problems.\n",
    "* **INFO**: Confirmation that things are working as expected.\n",
    "* **WARNING**: An indication that something unexpected happened, or indicative of some problem in the near future (e.g. ‘disk space low’). The software is still working as expected. (Default)\n",
    "* **ERROR**: Due to a more serious problem, the software has not been able to perform some function.\n",
    "* **CRITICAL**: A serious error, indicating that the program itself may be unable to continue running."
   ]
  },
  {
   "cell_type": "code",
   "execution_count": 39,
   "metadata": {},
   "outputs": [],
   "source": [
    "import logging"
   ]
  },
  {
   "cell_type": "code",
   "execution_count": 40,
   "metadata": {},
   "outputs": [],
   "source": [
    "# setting DEBUG level as the default\n",
    "logging.basicConfig(\n",
    "    filename = 'test.log', # name of the file for saving logs \n",
    "    level=logging.DEBUG,\n",
    "    format='%(asctime)s:%(levelname)s:%(message)s') # what log file contains (if not specified, then just the message)"
   ]
  },
  {
   "cell_type": "code",
   "execution_count": 41,
   "metadata": {},
   "outputs": [],
   "source": [
    "def addition(x,y):\n",
    "    return(x+y)\n",
    "\n",
    "# log information to the console\n",
    "logging.debug(addition(3,4))"
   ]
  }
 ],
 "metadata": {
  "kernelspec": {
   "display_name": "Python 3 (ipykernel)",
   "language": "python",
   "name": "python3"
  },
  "language_info": {
   "codemirror_mode": {
    "name": "ipython",
    "version": 3
   },
   "file_extension": ".py",
   "mimetype": "text/x-python",
   "name": "python",
   "nbconvert_exporter": "python",
   "pygments_lexer": "ipython3",
   "version": "3.10.4"
  },
  "toc-autonumbering": true
 },
 "nbformat": 4,
 "nbformat_minor": 4
}
